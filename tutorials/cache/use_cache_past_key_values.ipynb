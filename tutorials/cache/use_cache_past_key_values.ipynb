{
 "cells": [
  {
   "cell_type": "code",
   "execution_count": 1,
   "id": "015aa12d-148d-4bd8-851c-f877eadc1cca",
   "metadata": {
    "execution": {
     "iopub.execute_input": "2024-11-17T04:50:20.914152Z",
     "iopub.status.busy": "2024-11-17T04:50:20.913538Z",
     "iopub.status.idle": "2024-11-17T04:50:20.922055Z",
     "shell.execute_reply": "2024-11-17T04:50:20.920689Z",
     "shell.execute_reply.started": "2024-11-17T04:50:20.914106Z"
    }
   },
   "outputs": [],
   "source": [
    "import os\n",
    "os.environ['http_proxy'] = 'http://127.0.0.1:7890'\n",
    "os.environ['https_proxy'] = 'http://127.0.0.1:7890'"
   ]
  },
  {
   "cell_type": "code",
   "execution_count": 2,
   "id": "11821f25-9fa8-4b8a-80a8-35c11135f4c3",
   "metadata": {
    "execution": {
     "iopub.execute_input": "2024-11-17T04:50:22.817253Z",
     "iopub.status.busy": "2024-11-17T04:50:22.816676Z",
     "iopub.status.idle": "2024-11-17T04:50:27.512312Z",
     "shell.execute_reply": "2024-11-17T04:50:27.511390Z",
     "shell.execute_reply.started": "2024-11-17T04:50:22.817209Z"
    }
   },
   "outputs": [
    {
     "name": "stderr",
     "output_type": "stream",
     "text": [
      "/home/whaow/anaconda3/lib/python3.10/site-packages/transformers/tokenization_utils_base.py:1602: FutureWarning: `clean_up_tokenization_spaces` was not set. It will be set to `True` by default. This behavior will be deprecated in transformers v4.45, and will be then set to `False` by default. For more details check this issue: https://github.com/huggingface/transformers/issues/31884\n",
      "  warnings.warn(\n"
     ]
    }
   ],
   "source": [
    "import torch\n",
    "from transformers import GPT2LMHeadModel, GPT2Tokenizer\n",
    "\n",
    "# 加载预训练模型和分词器\n",
    "model = GPT2LMHeadModel.from_pretrained('gpt2')\n",
    "tokenizer = GPT2Tokenizer.from_pretrained('gpt2')"
   ]
  },
  {
   "cell_type": "code",
   "execution_count": 3,
   "id": "2f8fa25d-b619-41f9-9a09-b93e7967350a",
   "metadata": {
    "execution": {
     "iopub.execute_input": "2024-11-17T04:50:35.775096Z",
     "iopub.status.busy": "2024-11-17T04:50:35.774740Z",
     "iopub.status.idle": "2024-11-17T04:50:35.795191Z",
     "shell.execute_reply": "2024-11-17T04:50:35.792923Z",
     "shell.execute_reply.started": "2024-11-17T04:50:35.775079Z"
    }
   },
   "outputs": [
    {
     "data": {
      "text/plain": [
       "tensor([[15496,    11,   616,  1438,   318]])"
      ]
     },
     "execution_count": 3,
     "metadata": {},
     "output_type": "execute_result"
    }
   ],
   "source": [
    "# 编码初始输入\n",
    "input_ids = tokenizer.encode(\"Hello, my name is\", return_tensors='pt')\n",
    "\n",
    "input_ids"
   ]
  },
  {
   "cell_type": "markdown",
   "id": "92e8fa48-ebcd-4ee3-869a-27ad9ba34f89",
   "metadata": {},
   "source": [
    "#### 第一步生成"
   ]
  },
  {
   "cell_type": "markdown",
   "id": "2c01e80b-c4ff-4d33-b4fb-45269d204684",
   "metadata": {},
   "source": [
    "```\n",
    "past_key_values = (\n",
    "    (key_layer_1, value_layer_1),\n",
    "    (key_layer_2, value_layer_2),\n",
    "    ...\n",
    "    (key_layer_N, value_layer_N)\n",
    ")\n",
    "\n",
    "(batch_size, num_heads, seq_length, head_dim)\n",
    "```\n"
   ]
  },
  {
   "cell_type": "code",
   "execution_count": 4,
   "id": "c3f47013-58fb-485b-adfe-2b11950d7fd2",
   "metadata": {
    "execution": {
     "iopub.execute_input": "2024-11-17T04:50:55.691342Z",
     "iopub.status.busy": "2024-11-17T04:50:55.690703Z",
     "iopub.status.idle": "2024-11-17T04:50:56.451289Z",
     "shell.execute_reply": "2024-11-17T04:50:56.449221Z",
     "shell.execute_reply.started": "2024-11-17T04:50:55.691297Z"
    }
   },
   "outputs": [],
   "source": [
    "# 第一步生成\n",
    "output = model(input_ids, use_cache=True)\n",
    "next_token_logits = output.logits[:, -1, :]  # 获取最后一个时间步的 logits\n",
    "past_key_values = output.past_key_values    # 缓存键和值"
   ]
  },
  {
   "cell_type": "code",
   "execution_count": 6,
   "id": "94ff70a3-15d9-4f4a-b362-111b4bab5bb8",
   "metadata": {
    "execution": {
     "iopub.execute_input": "2024-11-17T04:51:08.073134Z",
     "iopub.status.busy": "2024-11-17T04:51:08.072675Z",
     "iopub.status.idle": "2024-11-17T04:51:08.083792Z",
     "shell.execute_reply": "2024-11-17T04:51:08.081600Z",
     "shell.execute_reply.started": "2024-11-17T04:51:08.073103Z"
    }
   },
   "outputs": [
    {
     "data": {
      "text/plain": [
       "torch.Size([1, 5, 50257])"
      ]
     },
     "execution_count": 6,
     "metadata": {},
     "output_type": "execute_result"
    }
   ],
   "source": [
    "output.logits.shape"
   ]
  },
  {
   "cell_type": "code",
   "execution_count": 10,
   "id": "c53bc5c7-cd2d-45de-b6da-6ea034c3f59a",
   "metadata": {
    "execution": {
     "iopub.execute_input": "2024-11-17T04:52:02.344469Z",
     "iopub.status.busy": "2024-11-17T04:52:02.343833Z",
     "iopub.status.idle": "2024-11-17T04:52:02.360134Z",
     "shell.execute_reply": "2024-11-17T04:52:02.357933Z",
     "shell.execute_reply.started": "2024-11-17T04:52:02.344425Z"
    }
   },
   "outputs": [
    {
     "data": {
      "text/plain": [
       "GPT2Config {\n",
       "  \"_name_or_path\": \"gpt2\",\n",
       "  \"activation_function\": \"gelu_new\",\n",
       "  \"architectures\": [\n",
       "    \"GPT2LMHeadModel\"\n",
       "  ],\n",
       "  \"attn_pdrop\": 0.1,\n",
       "  \"bos_token_id\": 50256,\n",
       "  \"embd_pdrop\": 0.1,\n",
       "  \"eos_token_id\": 50256,\n",
       "  \"initializer_range\": 0.02,\n",
       "  \"layer_norm_epsilon\": 1e-05,\n",
       "  \"model_type\": \"gpt2\",\n",
       "  \"n_ctx\": 1024,\n",
       "  \"n_embd\": 768,\n",
       "  \"n_head\": 12,\n",
       "  \"n_inner\": null,\n",
       "  \"n_layer\": 12,\n",
       "  \"n_positions\": 1024,\n",
       "  \"reorder_and_upcast_attn\": false,\n",
       "  \"resid_pdrop\": 0.1,\n",
       "  \"scale_attn_by_inverse_layer_idx\": false,\n",
       "  \"scale_attn_weights\": true,\n",
       "  \"summary_activation\": null,\n",
       "  \"summary_first_dropout\": 0.1,\n",
       "  \"summary_proj_to_labels\": true,\n",
       "  \"summary_type\": \"cls_index\",\n",
       "  \"summary_use_proj\": true,\n",
       "  \"task_specific_params\": {\n",
       "    \"text-generation\": {\n",
       "      \"do_sample\": true,\n",
       "      \"max_length\": 50\n",
       "    }\n",
       "  },\n",
       "  \"transformers_version\": \"4.45.0.dev0\",\n",
       "  \"use_cache\": true,\n",
       "  \"vocab_size\": 50257\n",
       "}"
      ]
     },
     "execution_count": 10,
     "metadata": {},
     "output_type": "execute_result"
    }
   ],
   "source": [
    "# \"vocab_size\": 50257\n",
    "# \"n_layer\": 12,\n",
    "# \"n_head\": 12,\n",
    "model.config"
   ]
  },
  {
   "cell_type": "code",
   "execution_count": 12,
   "id": "091e35f7-68c0-41cd-94f3-bc7a4d7af0c3",
   "metadata": {
    "execution": {
     "iopub.execute_input": "2024-11-17T04:52:17.290684Z",
     "iopub.status.busy": "2024-11-17T04:52:17.290046Z",
     "iopub.status.idle": "2024-11-17T04:52:17.302676Z",
     "shell.execute_reply": "2024-11-17T04:52:17.300449Z",
     "shell.execute_reply.started": "2024-11-17T04:52:17.290639Z"
    }
   },
   "outputs": [
    {
     "data": {
      "text/plain": [
       "(12, torch.Size([1, 12, 5, 64]))"
      ]
     },
     "execution_count": 12,
     "metadata": {},
     "output_type": "execute_result"
    }
   ],
   "source": [
    "len(past_key_values), past_key_values[0][0].shape"
   ]
  },
  {
   "cell_type": "markdown",
   "id": "357237fa-bc73-485c-8d8e-8941c7bd2cc2",
   "metadata": {},
   "source": [
    "#### 采样下一个 token"
   ]
  },
  {
   "cell_type": "code",
   "execution_count": null,
   "id": "a2bf26ee-e15f-4a04-8e47-878b8f09571d",
   "metadata": {},
   "outputs": [],
   "source": [
    "\n",
    "# 采样下一个令牌（例如取最大概率的令牌）\n",
    "next_token = torch.argmax(next_token_logits, dim=-1).unsqueeze(-1)\n",
    "\n",
    "# 第二步生成，使用缓存\n",
    "output = model(next_token, past_key_values=past_key_values, use_cache=True)\n",
    "next_token_logits = output.logits[:, -1, :]\n",
    "past_key_values = output.past_key_values\n",
    "\n",
    "# 重复上述步骤，直到生成结束\n"
   ]
  }
 ],
 "metadata": {
  "kernelspec": {
   "display_name": "Python 3 (ipykernel)",
   "language": "python",
   "name": "python3"
  },
  "language_info": {
   "codemirror_mode": {
    "name": "ipython",
    "version": 3
   },
   "file_extension": ".py",
   "mimetype": "text/x-python",
   "name": "python",
   "nbconvert_exporter": "python",
   "pygments_lexer": "ipython3",
   "version": "3.10.13"
  }
 },
 "nbformat": 4,
 "nbformat_minor": 5
}
