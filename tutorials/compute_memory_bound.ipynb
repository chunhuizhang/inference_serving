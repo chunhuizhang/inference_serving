{
 "cells": [
  {
   "cell_type": "markdown",
   "id": "b157eb5a-4a7c-4d44-b94c-87ac8622d7aa",
   "metadata": {},
   "source": [
    "- TLDR at batch_size=1 (i.e. just generating a single stream of prediction on your computer), the inference is super duper **memory-bound**. The on-chip compute units are twiddling their thumbs while sucking model weights through a straw from DRAM. Every individual weight that is expensively loaded from DRAM onto the chip is only used for a single instant multiply to process each new input token. So the stat to look at is not FLOPS but the **memory bandwidth**.\n",
    "    - compute-bound：flops\n",
    "    - memory-bound：memory bandwidth"
   ]
  },
  {
   "cell_type": "markdown",
   "id": "c2d70712-2fb9-4318-aeda-7be5786717b4",
   "metadata": {},
   "source": [
    "|                        | A100      | MacBook M2 |\n",
    "|------------------------|-----------|------------|\n",
    "| Memory Bandwidth       | 1935 GB/s | 100 GB/s   |\n",
    "| Compute                | 1248 TOPS | 7 TFLOPS   |\n"
   ]
  }
 ],
 "metadata": {
  "kernelspec": {
   "display_name": "Python 3 (ipykernel)",
   "language": "python",
   "name": "python3"
  },
  "language_info": {
   "codemirror_mode": {
    "name": "ipython",
    "version": 3
   },
   "file_extension": ".py",
   "mimetype": "text/x-python",
   "name": "python",
   "nbconvert_exporter": "python",
   "pygments_lexer": "ipython3",
   "version": "3.10.13"
  }
 },
 "nbformat": 4,
 "nbformat_minor": 5
}
