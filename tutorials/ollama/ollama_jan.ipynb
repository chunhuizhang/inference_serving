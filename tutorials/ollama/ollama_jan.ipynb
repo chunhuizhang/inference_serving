{
 "cells": [
  {
   "cell_type": "markdown",
   "id": "f1e927af-f67e-4fab-9f41-9077a4126d47",
   "metadata": {},
   "source": [
    "### ollama 安装与配置"
   ]
  },
  {
   "cell_type": "markdown",
   "id": "e845cef1",
   "metadata": {},
   "source": [
    "- references\n",
    "    - https://ollama.com/\n",
    "    - https://ollama.com/download\n",
    "        - 下载与安装\n",
    "        - `curl -fsSL https://ollama.com/install.sh | sh`\n",
    "    - https://ollama.com/library"
   ]
  },
  {
   "cell_type": "markdown",
   "id": "16fe5baa",
   "metadata": {},
   "source": [
    "- models\n",
    "    - Linux 默认下载地址：`/usr/share/ollama/.ollama/models`\n",
    "        - `OLLAMA_MODLES`：环境变量配置；\n",
    "    - mistral\n",
    "        - `ollama run mistral`\n",
    "    - llama\n",
    "        - `ollama run llama2`\n",
    "        - `ollama run llama2-uncensored`\n",
    "            - 退出：`/bye`\n",
    "- `ollama list`\n",
    "- `ollama serve`:\n",
    "    - `127.0.0.1:11434`"
   ]
  },
  {
   "cell_type": "markdown",
   "id": "4434ba72",
   "metadata": {
    "ExecuteTime": {
     "end_time": "2024-02-24T02:28:24.846004Z",
     "start_time": "2024-02-24T02:28:24.827390Z"
    }
   },
   "source": [
    "- 退出\n",
    "    - /bye\n",
    "    - /exit"
   ]
  },
  {
   "cell_type": "markdown",
   "id": "419dddf9-c93d-41da-93a3-165bd858f819",
   "metadata": {},
   "source": [
    "### 本地部署及推理"
   ]
  },
  {
   "cell_type": "code",
   "execution_count": null,
   "id": "87938f15-c547-408f-82c6-b095e9e1388d",
   "metadata": {},
   "outputs": [],
   "source": []
  }
 ],
 "metadata": {
  "kernelspec": {
   "display_name": "Python 3 (ipykernel)",
   "language": "python",
   "name": "python3"
  },
  "language_info": {
   "codemirror_mode": {
    "name": "ipython",
    "version": 3
   },
   "file_extension": ".py",
   "mimetype": "text/x-python",
   "name": "python",
   "nbconvert_exporter": "python",
   "pygments_lexer": "ipython3",
   "version": "3.10.13"
  },
  "toc": {
   "base_numbering": 1,
   "nav_menu": {},
   "number_sections": true,
   "sideBar": true,
   "skip_h1_title": false,
   "title_cell": "Table of Contents",
   "title_sidebar": "Contents",
   "toc_cell": false,
   "toc_position": {},
   "toc_section_display": true,
   "toc_window_display": false
  }
 },
 "nbformat": 4,
 "nbformat_minor": 5
}
