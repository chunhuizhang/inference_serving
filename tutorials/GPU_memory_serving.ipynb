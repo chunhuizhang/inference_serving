{
 "cells": [
  {
   "cell_type": "markdown",
   "id": "b726b0a3-10a4-4355-9224-721d24e476de",
   "metadata": {},
   "source": [
    "- https://www.substratus.ai/blog/calculating-gpu-memory-for-llm"
   ]
  },
  {
   "cell_type": "markdown",
   "id": "ca15921f-291e-47cb-b245-7e784935172b",
   "metadata": {},
   "source": [
    "- Let's try it out for Llama 70B that we will load in 16 bit. The model has 70 billion parameters.\n",
    "    - Represents a 20% overhead of loading additional things in GPU memory.\n",
    "\n",
    "    $$\n",
    "    \\frac{70 * 4\\text{bytes}}{32/16} * 1.2 = 168\\text{GB}\n",
    "    $$\n",
    "\n",
    "-  4 bit quantization of Llama 2 70B:\n",
    "\n",
    "    $$\n",
    "    \\frac{70 * 4\\text{bytes}}{32/4} * 1.2 = 42\\text{GB}\n",
    "    $$"
   ]
  },
  {
   "cell_type": "code",
   "execution_count": null,
   "id": "a5cf3222-0e92-49b2-a907-7ff915d563bf",
   "metadata": {},
   "outputs": [],
   "source": []
  }
 ],
 "metadata": {
  "kernelspec": {
   "display_name": "Python 3 (ipykernel)",
   "language": "python",
   "name": "python3"
  },
  "language_info": {
   "codemirror_mode": {
    "name": "ipython",
    "version": 3
   },
   "file_extension": ".py",
   "mimetype": "text/x-python",
   "name": "python",
   "nbconvert_exporter": "python",
   "pygments_lexer": "ipython3",
   "version": "3.10.13"
  }
 },
 "nbformat": 4,
 "nbformat_minor": 5
}
