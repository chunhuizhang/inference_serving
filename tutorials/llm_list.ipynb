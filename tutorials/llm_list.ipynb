{
 "cells": [
  {
   "cell_type": "markdown",
   "id": "35639238-fd84-4e7b-a0ba-52422b16375e",
   "metadata": {},
   "source": [
    "### llama"
   ]
  },
  {
   "cell_type": "markdown",
   "id": "2ede2aae-b8c2-492c-844a-bb32e5ebaffa",
   "metadata": {},
   "source": [
    "- llama3\n",
    "    - 3\n",
    "    - 3.1\n",
    "    - 3.2\n",
    "    - 3.3\n",
    "        - 70B instruct"
   ]
  },
  {
   "cell_type": "markdown",
   "id": "bc7c64dd-e0ec-4987-a418-6bedb653510f",
   "metadata": {},
   "source": [
    "### qwen"
   ]
  },
  {
   "cell_type": "markdown",
   "id": "db709c55-d0cf-4c50-bc40-f547b03fe7bb",
   "metadata": {},
   "source": [
    "- qwen2.5\n",
    "    - `[0.5, 1.5, 3, 7, 14, 32, 72]`"
   ]
  },
  {
   "cell_type": "markdown",
   "id": "efa47090-0a40-4947-b6a4-69c0381c97d5",
   "metadata": {},
   "source": [
    "### deepseek"
   ]
  },
  {
   "cell_type": "markdown",
   "id": "9eefef3e-ccc7-49d1-b0be-6c724f61d1cc",
   "metadata": {},
   "source": [
    "- deepseek v3\n",
    "    - deepseek-chat"
   ]
  }
 ],
 "metadata": {
  "kernelspec": {
   "display_name": "Python 3 (ipykernel)",
   "language": "python",
   "name": "python3"
  },
  "language_info": {
   "codemirror_mode": {
    "name": "ipython",
    "version": 3
   },
   "file_extension": ".py",
   "mimetype": "text/x-python",
   "name": "python",
   "nbconvert_exporter": "python",
   "pygments_lexer": "ipython3",
   "version": "3.10.13"
  }
 },
 "nbformat": 4,
 "nbformat_minor": 5
}
