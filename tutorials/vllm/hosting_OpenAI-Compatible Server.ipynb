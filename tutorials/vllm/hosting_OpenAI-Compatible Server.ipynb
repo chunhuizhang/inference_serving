{
 "cells": [
  {
   "cell_type": "markdown",
   "id": "fb658d43-7f68-4f03-9a0c-945cd41202bf",
   "metadata": {},
   "source": [
    "- https://docs.vllm.ai/en/latest/getting_started/quickstart.html"
   ]
  },
  {
   "cell_type": "markdown",
   "id": "3de84800-126f-4cbe-812a-87c6957d5f9d",
   "metadata": {},
   "source": [
    "### OpenAI-Compatible Server"
   ]
  },
  {
   "cell_type": "markdown",
   "id": "76ef074c-8a72-4bdb-a2da-496ad2d608f7",
   "metadata": {},
   "source": [
    "```\n",
    "$ vllm serve Qwen/Qwen2.5-1.5B-Instruct\n",
    "$ vllm serve meta-llama/Llama-3.1-8B-Instruct --dtype auto --api-key keytest --gpu_memory_utilization 0.95  --max_model_len 4096\n",
    "$ nohup vllm serve meta-llama/Llama-3.1-8B-Instruct --dtype auto --api-key keytest --gpu_memory_utilization 0.95  --max_model_len 4096 &\n",
    "```\n",
    "\n",
    "- `http://localhost:8000/`\n",
    "- 默认参数\n",
    "    - port: 8000\n",
    "    - dtype: auto\n",
    "    - device: auto\n",
    "    - api_key: None\n",
    "    - gpu_memory_utilization: 0.9\n",
    "        - the current vLLM instance can use total_gpu_memory (23.65GiB) x gpu_memory_utilization (0.95) = 22.47GiB\n",
    "    - **max_model_len**: None\n",
    "- curl\n",
    "    ```\n",
    "    curl http://localhost:8000/v1/completions \\\n",
    "        -H \"Content-Type: application/json\" \\\n",
    "        -d '{\n",
    "            \"model\": \"Qwen/Qwen2.5-1.5B-Instruct\",\n",
    "            \"prompt\": \"San Francisco is a\",\n",
    "            \"max_tokens\": 7,\n",
    "            \"temperature\": 0\n",
    "        }'\n",
    "    ```"
   ]
  },
  {
   "cell_type": "markdown",
   "id": "7056818a-53a4-40be-9f65-a27c939d766a",
   "metadata": {},
   "source": [
    "#### openai api"
   ]
  },
  {
   "cell_type": "code",
   "execution_count": 24,
   "id": "ec74bb36-8fac-4ca5-bca6-aa90b0480fb1",
   "metadata": {
    "execution": {
     "iopub.execute_input": "2025-01-11T05:46:22.097222Z",
     "iopub.status.busy": "2025-01-11T05:46:22.096772Z",
     "iopub.status.idle": "2025-01-11T05:46:22.165317Z",
     "shell.execute_reply": "2025-01-11T05:46:22.163282Z",
     "shell.execute_reply.started": "2025-01-11T05:46:22.097188Z"
    }
   },
   "outputs": [],
   "source": [
    "from openai import OpenAI\n",
    "\n",
    "# Modify OpenAI's API key and API base to use vLLM's API server.\n",
    "openai_api_key = \"keytest\"\n",
    "openai_api_base = \"http://localhost:8000/v1\"\n",
    "client = OpenAI(\n",
    "    api_key=openai_api_key,\n",
    "    base_url=openai_api_base,\n",
    ")"
   ]
  },
  {
   "cell_type": "code",
   "execution_count": null,
   "id": "3c2352b3-3ab8-408d-9199-e39b6c63e05a",
   "metadata": {},
   "outputs": [],
   "source": [
    "completion = client.completions.create(model=\"Qwen/Qwen2.5-1.5B-Instruct\",\n",
    "                                      prompt=\"San Francisco is a\")"
   ]
  },
  {
   "cell_type": "code",
   "execution_count": 16,
   "id": "4088b5f8-8b36-426e-980c-1e68a4448627",
   "metadata": {
    "execution": {
     "iopub.execute_input": "2025-01-11T05:42:16.688622Z",
     "iopub.status.busy": "2025-01-11T05:42:16.688038Z",
     "iopub.status.idle": "2025-01-11T05:42:16.700360Z",
     "shell.execute_reply": "2025-01-11T05:42:16.698445Z",
     "shell.execute_reply.started": "2025-01-11T05:42:16.688575Z"
    }
   },
   "outputs": [
    {
     "data": {
      "text/plain": [
       "Completion(id='cmpl-b997458da9a24b62946f616268f404df', choices=[CompletionChoice(finish_reason='length', index=0, logprobs=None, text=' This is a question that people have debated for centuries, and there is no definitive', stop_reason=None, prompt_logprobs=None)], created=1736569230, model='Qwen/Qwen2.5-1.5B-Instruct', object='text_completion', system_fingerprint=None, usage=CompletionUsage(completion_tokens=16, prompt_tokens=7, total_tokens=23, completion_tokens_details=None, prompt_tokens_details=None))"
      ]
     },
     "execution_count": 16,
     "metadata": {},
     "output_type": "execute_result"
    }
   ],
   "source": [
    "completion"
   ]
  },
  {
   "cell_type": "code",
   "execution_count": 17,
   "id": "93fa909e-e829-4f70-80eb-20508da836f5",
   "metadata": {
    "execution": {
     "iopub.execute_input": "2025-01-11T05:42:18.214346Z",
     "iopub.status.busy": "2025-01-11T05:42:18.213822Z",
     "iopub.status.idle": "2025-01-11T05:42:18.226361Z",
     "shell.execute_reply": "2025-01-11T05:42:18.224431Z",
     "shell.execute_reply.started": "2025-01-11T05:42:18.214303Z"
    }
   },
   "outputs": [
    {
     "data": {
      "text/plain": [
       "' This is a question that people have debated for centuries, and there is no definitive'"
      ]
     },
     "execution_count": 17,
     "metadata": {},
     "output_type": "execute_result"
    }
   ],
   "source": [
    "completion.choices[0].text"
   ]
  },
  {
   "cell_type": "code",
   "execution_count": 7,
   "id": "accb01c2-bf4e-4d2b-a1e3-ffbd31e25372",
   "metadata": {
    "execution": {
     "iopub.execute_input": "2025-01-11T04:20:30.979604Z",
     "iopub.status.busy": "2025-01-11T04:20:30.979057Z",
     "iopub.status.idle": "2025-01-11T04:20:31.132051Z",
     "shell.execute_reply": "2025-01-11T04:20:31.129974Z",
     "shell.execute_reply.started": "2025-01-11T04:20:30.979561Z"
    }
   },
   "outputs": [],
   "source": [
    "completion = client.completions.create(model=\"Qwen/Qwen2.5-1.5B-Instruct\",\n",
    "                                      prompt=\"What is the meaning of life?\")"
   ]
  },
  {
   "cell_type": "code",
   "execution_count": 8,
   "id": "4e385c42-5b8d-4221-bd1e-ead12516e55d",
   "metadata": {
    "execution": {
     "iopub.execute_input": "2025-01-11T04:20:41.208717Z",
     "iopub.status.busy": "2025-01-11T04:20:41.208164Z",
     "iopub.status.idle": "2025-01-11T04:20:41.220082Z",
     "shell.execute_reply": "2025-01-11T04:20:41.217950Z",
     "shell.execute_reply.started": "2025-01-11T04:20:41.208672Z"
    }
   },
   "outputs": [
    {
     "data": {
      "text/plain": [
       "' This is a question that people have debated for centuries, and there is no definitive'"
      ]
     },
     "execution_count": 8,
     "metadata": {},
     "output_type": "execute_result"
    }
   ],
   "source": [
    "completion.choices[0].text"
   ]
  },
  {
   "cell_type": "markdown",
   "id": "396801cb-5a7a-4416-b948-5f0bb9030166",
   "metadata": {},
   "source": [
    "#### chat"
   ]
  },
  {
   "cell_type": "markdown",
   "id": "26b1b772-5dcc-48c4-84bf-31c31182229f",
   "metadata": {},
   "source": [
    "```\n",
    "curl http://localhost:8000/v1/chat/completions \\\n",
    "    -H \"Content-Type: application/json\" \\\n",
    "    -d '{\n",
    "        \"model\": \"Qwen/Qwen2.5-1.5B-Instruct\",\n",
    "        \"messages\": [\n",
    "            {\"role\": \"system\", \"content\": \"You are a helpful assistant.\"},\n",
    "            {\"role\": \"user\", \"content\": \"Who won the world series in 2020?\"}\n",
    "        ]\n",
    "    }'\n",
    "```"
   ]
  },
  {
   "cell_type": "code",
   "execution_count": 26,
   "id": "07f2eb64-9b0a-4c59-a52a-22f049cb07ed",
   "metadata": {
    "execution": {
     "iopub.execute_input": "2025-01-11T05:52:39.415648Z",
     "iopub.status.busy": "2025-01-11T05:52:39.415043Z",
     "iopub.status.idle": "2025-01-11T05:52:40.581181Z",
     "shell.execute_reply": "2025-01-11T05:52:40.579853Z",
     "shell.execute_reply.started": "2025-01-11T05:52:39.415600Z"
    }
   },
   "outputs": [
    {
     "name": "stdout",
     "output_type": "stream",
     "text": [
      "Chat response: ChatCompletion(id='chatcmpl-8e5990b0a11f46d1b8d7b9ce9ab79d4e', choices=[Choice(finish_reason='stop', index=0, logprobs=None, message=ChatCompletionMessage(content='A man walked into a library and asked the librarian, \"Do you have any books on Pavlov\\'s dogs and Schrödinger\\'s cat?\" \\n\\nThe librarian replied, \"It rings a bell, but I\\'m not sure if it\\'s here or not.\"', refusal=None, role='assistant', audio=None, function_call=None, tool_calls=[]), stop_reason=None)], created=1736574759, model='meta-llama/Llama-3.1-8B-Instruct', object='chat.completion', service_tier=None, system_fingerprint=None, usage=CompletionUsage(completion_tokens=55, prompt_tokens=46, total_tokens=101, completion_tokens_details=None, prompt_tokens_details=None), prompt_logprobs=None)\n"
     ]
    }
   ],
   "source": [
    "chat_response = client.chat.completions.create(\n",
    "    # model=\"Qwen/Qwen2.5-1.5B-Instruct\",\n",
    "    model=\"meta-llama/Llama-3.1-8B-Instruct\",\n",
    "    messages=[\n",
    "        {\"role\": \"system\", \"content\": \"You are a helpful assistant.\"},\n",
    "        {\"role\": \"user\", \"content\": \"Tell me a joke.\"},\n",
    "    ]\n",
    ")\n",
    "print(\"Chat response:\", chat_response)"
   ]
  },
  {
   "cell_type": "code",
   "execution_count": 27,
   "id": "6eea5893-d2a2-4464-be5f-cb17a36028b5",
   "metadata": {
    "execution": {
     "iopub.execute_input": "2025-01-11T05:52:43.371711Z",
     "iopub.status.busy": "2025-01-11T05:52:43.371124Z",
     "iopub.status.idle": "2025-01-11T05:52:43.382052Z",
     "shell.execute_reply": "2025-01-11T05:52:43.379965Z",
     "shell.execute_reply.started": "2025-01-11T05:52:43.371666Z"
    }
   },
   "outputs": [
    {
     "name": "stdout",
     "output_type": "stream",
     "text": [
      "A man walked into a library and asked the librarian, \"Do you have any books on Pavlov's dogs and Schrödinger's cat?\" \n",
      "\n",
      "The librarian replied, \"It rings a bell, but I'm not sure if it's here or not.\"\n"
     ]
    }
   ],
   "source": [
    "print(chat_response.choices[0].message.content)"
   ]
  },
  {
   "cell_type": "markdown",
   "id": "a0cf379f-b228-432d-b8a5-a381220ec8be",
   "metadata": {},
   "source": [
    "### distributed inference & serving"
   ]
  },
  {
   "cell_type": "markdown",
   "id": "433781e7-8c75-48a5-91f4-3a201e461c6c",
   "metadata": {},
   "source": [
    "https://docs.vllm.ai/en/latest/serving/distributed_serving.html\n",
    "\n",
    "- `--tensor-parallel-size 2`"
   ]
  }
 ],
 "metadata": {
  "kernelspec": {
   "display_name": "Python 3 (ipykernel)",
   "language": "python",
   "name": "python3"
  },
  "language_info": {
   "codemirror_mode": {
    "name": "ipython",
    "version": 3
   },
   "file_extension": ".py",
   "mimetype": "text/x-python",
   "name": "python",
   "nbconvert_exporter": "python",
   "pygments_lexer": "ipython3",
   "version": "3.10.13"
  }
 },
 "nbformat": 4,
 "nbformat_minor": 5
}
