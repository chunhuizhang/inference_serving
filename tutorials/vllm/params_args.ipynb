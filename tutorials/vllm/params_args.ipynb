{
 "cells": [
  {
   "cell_type": "markdown",
   "id": "a8a972a1-d7df-460e-953b-da9b60174a9f",
   "metadata": {},
   "source": [
    "- `gpu_memory_utilization`\n",
    "    - Weights\n",
    "    - activation\n",
    "    - kv cache"
   ]
  }
 ],
 "metadata": {
  "kernelspec": {
   "display_name": "Python 3 (ipykernel)",
   "language": "python",
   "name": "python3"
  },
  "language_info": {
   "codemirror_mode": {
    "name": "ipython",
    "version": 3
   },
   "file_extension": ".py",
   "mimetype": "text/x-python",
   "name": "python",
   "nbconvert_exporter": "python",
   "pygments_lexer": "ipython3",
   "version": "3.10.13"
  }
 },
 "nbformat": 4,
 "nbformat_minor": 5
}
