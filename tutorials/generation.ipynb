{
 "cells": [
  {
   "cell_type": "markdown",
   "id": "af733576-f936-46be-a604-5cbe3238de65",
   "metadata": {},
   "source": [
    "### `Setting `pad_token_id` to `eos_token_id`:50256 for open-end generation.`"
   ]
  },
  {
   "cell_type": "markdown",
   "id": "d4afc909-c979-479f-af22-3d2eaee13d10",
   "metadata": {},
   "source": [
    "- batch generation 时的警告\n",
    "    - 自动将 `model.generation_config.pad_token_id = tokenizer.pad_token_id`\n",
    "    - `model.config.pad_token_id, model.config.eos_token_id`\n",
    "- https://github.com/huggingface/transformers/blob/b880508440f43f80e35a78ccd2a32f3bde91cb23/src/transformers/generation_utils.py#L410-L414\n",
    "    ```\n",
    "    def _get_pad_token_id(self, pad_token_id: int = None, eos_token_id: int = None) -> int:\n",
    "        if pad_token_id is None and eos_token_id is not None:\n",
    "            logger.warning(f\"Setting `pad_token_id` to `eos_token_id`:{eos_token_id} for open-end generation.\")\n",
    "            pad_token_id = eos_token_id\n",
    "        return pad_token_id\n",
    "    ```"
   ]
  },
  {
   "cell_type": "markdown",
   "id": "5f7d8267-422b-4885-a65b-1d435fe19243",
   "metadata": {},
   "source": [
    "#### open-ended generation"
   ]
  },
  {
   "cell_type": "markdown",
   "id": "e3599a91-eed3-4785-9843-a9c6ee4bb26f",
   "metadata": {},
   "source": [
    "- https://huggingface.co/blog/how-to-generate\n",
    "- https://huggingface.co/blog/constrained-beam-search"
   ]
  }
 ],
 "metadata": {
  "kernelspec": {
   "display_name": "Python 3 (ipykernel)",
   "language": "python",
   "name": "python3"
  },
  "language_info": {
   "codemirror_mode": {
    "name": "ipython",
    "version": 3
   },
   "file_extension": ".py",
   "mimetype": "text/x-python",
   "name": "python",
   "nbconvert_exporter": "python",
   "pygments_lexer": "ipython3",
   "version": "3.10.13"
  }
 },
 "nbformat": 4,
 "nbformat_minor": 5
}
