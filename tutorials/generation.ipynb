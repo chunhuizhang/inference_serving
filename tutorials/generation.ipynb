{
 "cells": [
  {
   "cell_type": "markdown",
   "id": "af733576-f936-46be-a604-5cbe3238de65",
   "metadata": {},
   "source": [
    "### `Setting `pad_token_id` to `eos_token_id`:50256 for open-end generation.`"
   ]
  },
  {
   "cell_type": "markdown",
   "id": "d4afc909-c979-479f-af22-3d2eaee13d10",
   "metadata": {},
   "source": [
    "- batch generation 时的警告\n",
    "    - 自动将 `model.generation_config.pad_token_id = tokenizer.pad_token_id`\n",
    "    - `model.config.pad_token_id, model.config.eos_token_id`\n",
    "- https://github.com/huggingface/transformers/blob/b880508440f43f80e35a78ccd2a32f3bde91cb23/src/transformers/generation_utils.py#L410-L414\n",
    "    ```\n",
    "    def _get_pad_token_id(self, pad_token_id: int = None, eos_token_id: int = None) -> int:\n",
    "        if pad_token_id is None and eos_token_id is not None:\n",
    "            logger.warning(f\"Setting `pad_token_id` to `eos_token_id`:{eos_token_id} for open-end generation.\")\n",
    "            pad_token_id = eos_token_id\n",
    "        return pad_token_id\n",
    "    ```"
   ]
  },
  {
   "cell_type": "markdown",
   "id": "5f7d8267-422b-4885-a65b-1d435fe19243",
   "metadata": {},
   "source": [
    "#### open-ended generation"
   ]
  },
  {
   "cell_type": "markdown",
   "id": "e3599a91-eed3-4785-9843-a9c6ee4bb26f",
   "metadata": {},
   "source": [
    "- https://huggingface.co/blog/how-to-generate\n",
    "    - Using beam search as a decoder for open-ended generation results in text that is strangely bland and repetitive. This is not because of “search error, where beam search failed to find higher quality sentences to which the model assigns higher probability than to the decoded ones.” Rather, the fundamental problem is the maximum likelihood decoding objective.\n",
    "    - 束搜索的单调和重复性，不是一个针对 open-ended generation 任务的好的解决策略，正在与它的最大似然的目标\n",
    "        - 束搜索的选择机制实际上缩小了搜索空间，因为它只保留了高概率的路径，并丢弃了可能具有更多多样性的低概率路径。因此，生成的序列更可能集中在模型分布的高峰值区域，而忽略那些可能更有趣但概率较低的区域。这种集中性会导致生成文本的多样性显著降低。\n",
    "- https://huggingface.co/blog/constrained-beam-search"
   ]
  }
 ],
 "metadata": {
  "kernelspec": {
   "display_name": "Python 3 (ipykernel)",
   "language": "python",
   "name": "python3"
  },
  "language_info": {
   "codemirror_mode": {
    "name": "ipython",
    "version": 3
   },
   "file_extension": ".py",
   "mimetype": "text/x-python",
   "name": "python",
   "nbconvert_exporter": "python",
   "pygments_lexer": "ipython3",
   "version": "3.10.13"
  }
 },
 "nbformat": 4,
 "nbformat_minor": 5
}
