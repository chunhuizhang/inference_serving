{
 "cells": [
  {
   "cell_type": "markdown",
   "id": "b8d31e97-42aa-4d02-b986-ae7bd216a0ee",
   "metadata": {},
   "source": [
    "- Andrej Karpathy\n",
    "    - https://x.com/karpathy/status/1697318534555336961\n",
    "    - Speculative execution for LLMs is an excellent **inference-time** optimization."
   ]
  }
 ],
 "metadata": {
  "kernelspec": {
   "display_name": "Python 3 (ipykernel)",
   "language": "python",
   "name": "python3"
  },
  "language_info": {
   "codemirror_mode": {
    "name": "ipython",
    "version": 3
   },
   "file_extension": ".py",
   "mimetype": "text/x-python",
   "name": "python",
   "nbconvert_exporter": "python",
   "pygments_lexer": "ipython3",
   "version": "3.10.13"
  }
 },
 "nbformat": 4,
 "nbformat_minor": 5
}
