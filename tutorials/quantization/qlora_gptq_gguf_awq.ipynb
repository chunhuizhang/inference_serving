{
 "cells": [
  {
   "cell_type": "code",
   "execution_count": 1,
   "id": "75524107-ecf6-49de-b06f-1834c9de85ad",
   "metadata": {
    "execution": {
     "iopub.execute_input": "2024-07-21T08:38:13.699896Z",
     "iopub.status.busy": "2024-07-21T08:38:13.699283Z",
     "iopub.status.idle": "2024-07-21T08:38:13.718233Z",
     "shell.execute_reply": "2024-07-21T08:38:13.716197Z",
     "shell.execute_reply.started": "2024-07-21T08:38:13.699847Z"
    }
   },
   "outputs": [],
   "source": [
    "import os\n",
    "os.environ['http_proxy'] = 'http://127.0.0.1:7890'\n",
    "os.environ['https_proxy'] = 'http://127.0.0.1:7890'"
   ]
  },
  {
   "cell_type": "code",
   "execution_count": 9,
   "id": "c7c612f4-e6f2-4c45-8232-3bc12cd8e271",
   "metadata": {
    "execution": {
     "iopub.execute_input": "2024-07-21T08:41:30.101415Z",
     "iopub.status.busy": "2024-07-21T08:41:30.101009Z",
     "iopub.status.idle": "2024-07-21T08:41:30.110054Z",
     "shell.execute_reply": "2024-07-21T08:41:30.107761Z",
     "shell.execute_reply.started": "2024-07-21T08:41:30.101386Z"
    }
   },
   "outputs": [],
   "source": [
    "from torch import bfloat16\n",
    "import torch\n",
    "from transformers import pipeline, AutoTokenizer, AutoModelForCausalLM\n",
    "import numpy as np\n",
    "import seaborn as sns\n",
    "import matplotlib.pyplot as plt\n",
    "from IPython.display import Image"
   ]
  },
  {
   "cell_type": "markdown",
   "id": "d8ac21d5-ca7f-43e7-956d-83d8685049fe",
   "metadata": {},
   "source": [
    "### overall"
   ]
  },
  {
   "cell_type": "markdown",
   "id": "3da66ebe-60e0-44d9-9a06-852be1eb315f",
   "metadata": {},
   "source": [
    "- HuggingFace bitsandbytes\n",
    "- GPTQ: data **compression**, GPU，https://arxiv.org/pdf/2210.17323\n",
    "    - GPTQ is a **post-training quantization (PTQ)** method for 4-bit quantization that focuses primarily on **GPU** inference and performance.\n",
    "    - to quantizing the weights of transformer-based models\n",
    "    - first applies scalar quant to the weights, followed by vector quant to the residuals\n",
    "    - The idea behind the method is that it will try to **compress all weights to a 4-bit quantization** by minimizing the **mean squared error** to that weight.\n",
    "        - During inference, it will dynamically dequantize its weights to float16 for improved performance whilst keeping memory low.\n",
    "- GGUF: ggml, CPU\n",
    "    - c++, \n",
    "    - llama.cpp, https://github.com/ggerganov/llama.cpp\n",
    "- AWQ：activation aware quantization，https://arxiv.org/abs/2306.00978"
   ]
  },
  {
   "cell_type": "markdown",
   "id": "eccef1ea-ef4e-4393-9a96-3d164d763867",
   "metadata": {},
   "source": [
    "## examples"
   ]
  },
  {
   "cell_type": "code",
   "execution_count": 14,
   "id": "69a32a49-90b9-418f-93a4-59f5a8199aaa",
   "metadata": {
    "execution": {
     "iopub.execute_input": "2024-07-21T07:28:35.674504Z",
     "iopub.status.busy": "2024-07-21T07:28:35.674178Z",
     "iopub.status.idle": "2024-07-21T07:28:35.681416Z",
     "shell.execute_reply": "2024-07-21T07:28:35.679660Z",
     "shell.execute_reply.started": "2024-07-21T07:28:35.674483Z"
    }
   },
   "outputs": [],
   "source": [
    "# Latest HF transformers version for Mistral-like models\n",
    "# !pip install git+https://github.com/huggingface/transformers.git\n",
    "# !pip install accelerate bitsandbytes xformers\n",
    "\n",
    "# GPTQ Dependencies\n",
    "# !pip install optimum\n",
    "# !pip install auto-gptq --extra-index-url https://huggingface.github.io/autogptq-index/whl/cu118/\n",
    "# 我这边走的是源码安装\n",
    "\n",
    "# GGUF Dependencies\n",
    "# !pip install 'ctransformers[cuda]'"
   ]
  },
  {
   "cell_type": "code",
   "execution_count": 3,
   "id": "9f98b2f3-72aa-44b7-a4e1-56e719a1a292",
   "metadata": {
    "execution": {
     "iopub.execute_input": "2024-07-21T08:38:27.167409Z",
     "iopub.status.busy": "2024-07-21T08:38:27.167035Z",
     "iopub.status.idle": "2024-07-21T08:38:32.289219Z",
     "shell.execute_reply": "2024-07-21T08:38:32.288420Z",
     "shell.execute_reply.started": "2024-07-21T08:38:27.167387Z"
    }
   },
   "outputs": [
    {
     "data": {
      "application/vnd.jupyter.widget-view+json": {
       "model_id": "4aa09760ba96477d934850af65a3ce25",
       "version_major": 2,
       "version_minor": 0
      },
      "text/plain": [
       "Loading checkpoint shards:   0%|          | 0/4 [00:00<?, ?it/s]"
      ]
     },
     "metadata": {},
     "output_type": "display_data"
    },
    {
     "name": "stderr",
     "output_type": "stream",
     "text": [
      "We've detected an older driver with an RTX 4000 series GPU. These drivers have issues with P2P. This can affect the multi-gpu inference when using accelerate device_map.Please make sure to update your driver to the latest version which resolves this.\n",
      "Special tokens have been added in the vocabulary, make sure the associated word embeddings are fine-tuned or trained.\n"
     ]
    }
   ],
   "source": [
    "# Load in your LLM without any compression tricks\n",
    "model_id = \"meta-llama/Meta-Llama-3-8B-Instruct\" \n",
    "# model_id = \"HuggingFaceH4/zephyr-7b-beta\"\n",
    "pipe = pipeline(\n",
    "    \"text-generation\",\n",
    "    model=model_id,\n",
    "    torch_dtype=bfloat16,\n",
    "    device_map=\"auto\"\n",
    ")"
   ]
  },
  {
   "cell_type": "code",
   "execution_count": 4,
   "id": "84d0f04e-910d-4268-b347-a8d89dd732db",
   "metadata": {
    "execution": {
     "iopub.execute_input": "2024-07-21T08:39:14.639230Z",
     "iopub.status.busy": "2024-07-21T08:39:14.638913Z",
     "iopub.status.idle": "2024-07-21T08:39:14.650277Z",
     "shell.execute_reply": "2024-07-21T08:39:14.648481Z",
     "shell.execute_reply.started": "2024-07-21T08:39:14.639210Z"
    }
   },
   "outputs": [
    {
     "data": {
      "text/plain": [
       "LlamaForCausalLM(\n",
       "  (model): LlamaModel(\n",
       "    (embed_tokens): Embedding(128256, 4096)\n",
       "    (layers): ModuleList(\n",
       "      (0-31): 32 x LlamaDecoderLayer(\n",
       "        (self_attn): LlamaSdpaAttention(\n",
       "          (q_proj): Linear(in_features=4096, out_features=4096, bias=False)\n",
       "          (k_proj): Linear(in_features=4096, out_features=1024, bias=False)\n",
       "          (v_proj): Linear(in_features=4096, out_features=1024, bias=False)\n",
       "          (o_proj): Linear(in_features=4096, out_features=4096, bias=False)\n",
       "          (rotary_emb): LlamaRotaryEmbedding()\n",
       "        )\n",
       "        (mlp): LlamaMLP(\n",
       "          (gate_proj): Linear(in_features=4096, out_features=14336, bias=False)\n",
       "          (up_proj): Linear(in_features=4096, out_features=14336, bias=False)\n",
       "          (down_proj): Linear(in_features=14336, out_features=4096, bias=False)\n",
       "          (act_fn): SiLU()\n",
       "        )\n",
       "        (input_layernorm): LlamaRMSNorm()\n",
       "        (post_attention_layernorm): LlamaRMSNorm()\n",
       "      )\n",
       "    )\n",
       "    (norm): LlamaRMSNorm()\n",
       "  )\n",
       "  (lm_head): Linear(in_features=4096, out_features=128256, bias=False)\n",
       ")"
      ]
     },
     "execution_count": 4,
     "metadata": {},
     "output_type": "execute_result"
    }
   ],
   "source": [
    "pipe.model"
   ]
  },
  {
   "cell_type": "code",
   "execution_count": 8,
   "id": "025925bc-df5e-4227-8fc5-43aa99c6dbde",
   "metadata": {
    "execution": {
     "iopub.execute_input": "2024-07-21T08:41:11.873569Z",
     "iopub.status.busy": "2024-07-21T08:41:11.873252Z",
     "iopub.status.idle": "2024-07-21T08:41:11.957274Z",
     "shell.execute_reply": "2024-07-21T08:41:11.955546Z",
     "shell.execute_reply.started": "2024-07-21T08:41:11.873549Z"
    }
   },
   "outputs": [],
   "source": [
    "q_proj = pipe.model.model.layers[0].self_attn.q_proj.weight.detach().to(torch.float16).cpu().numpy().flatten()"
   ]
  },
  {
   "cell_type": "code",
   "execution_count": 11,
   "id": "6cb2d327-d751-4ca2-90fe-a70c09bdef2b",
   "metadata": {
    "execution": {
     "iopub.execute_input": "2024-07-21T08:42:29.535594Z",
     "iopub.status.busy": "2024-07-21T08:42:29.534516Z",
     "iopub.status.idle": "2024-07-21T08:42:29.738094Z",
     "shell.execute_reply": "2024-07-21T08:42:29.737311Z",
     "shell.execute_reply.started": "2024-07-21T08:42:29.535565Z"
    }
   },
   "outputs": [
    {
     "data": {
      "text/plain": [
       "<Axes: ylabel='Count'>"
      ]
     },
     "execution_count": 11,
     "metadata": {},
     "output_type": "execute_result"
    },
    {
     "data": {
      "image/png": "[encoded data removed]",
      "text/plain": [
       "<Figure size 1000x600 with 1 Axes>"
      ]
     },
     "metadata": {},
     "output_type": "display_data"
    }
   ],
   "source": [
    "plt.figure(figsize=(10, 6))\n",
    "sns.histplot(q_proj[:10000], bins=50, kde=True)"
   ]
  },
  {
   "cell_type": "markdown",
   "id": "e01c197f-0de6-4c0f-bc3d-9113fcc08936",
   "metadata": {},
   "source": [
    "### chat template"
   ]
  },
  {
   "cell_type": "markdown",
   "id": "a730297c-d16f-4503-9dd8-88b8622e3870",
   "metadata": {},
   "source": [
    "- llama3\n",
    "    - `<|begin_of_text|>`\n",
    "    - `<|start_header_id|>system<|end_header_id|>....<|eot_id|>`\n",
    "    - `<|start_header_id|>user<|end_header_id|>...<|eot_id|>`\n",
    "    - `<|start_header_id|>assistant<|end_header_id|>...`\n",
    "- zephyr\n",
    "    - `<|system|> ... </s>`\n",
    "    - `<|user|> ... </s>`\n",
    "    - `<|assistant|> ... </s>`"
   ]
  },
  {
   "cell_type": "code",
   "execution_count": 4,
   "id": "42e1f09d-eb7b-400f-85b3-c31ac0ebad48",
   "metadata": {
    "execution": {
     "iopub.execute_input": "2024-07-21T06:59:45.206445Z",
     "iopub.status.busy": "2024-07-21T06:59:45.206177Z",
     "iopub.status.idle": "2024-07-21T06:59:45.227708Z",
     "shell.execute_reply": "2024-07-21T06:59:45.226657Z",
     "shell.execute_reply.started": "2024-07-21T06:59:45.206428Z"
    }
   },
   "outputs": [
    {
     "name": "stdout",
     "output_type": "stream",
     "text": [
      "<|begin_of_text|><|start_header_id|>system<|end_header_id|>\n",
      "\n",
      "You are a friendly chatbot.<|eot_id|><|start_header_id|>user<|end_header_id|>\n",
      "\n",
      "Tell me a funny joke about Large Language Models.<|eot_id|><|start_header_id|>assistant<|end_header_id|>\n",
      "\n",
      "\n"
     ]
    }
   ],
   "source": [
    "# See https://huggingface.co/docs/transformers/main/en/chat_templating\n",
    "messages = [\n",
    "    {\n",
    "        \"role\": \"system\",\n",
    "        \"content\": \"You are a friendly chatbot.\",\n",
    "    },\n",
    "    {\n",
    "        \"role\": \"user\",\n",
    "        \"content\": \"Tell me a funny joke about Large Language Models.\"\n",
    "    },\n",
    "]\n",
    "prompt = pipe.tokenizer.apply_chat_template(messages, tokenize=False, add_generation_prompt=True)\n",
    "print(prompt)"
   ]
  },
  {
   "cell_type": "code",
   "execution_count": 5,
   "id": "b6ee927c-6231-48c8-b264-88951ae53590",
   "metadata": {
    "execution": {
     "iopub.execute_input": "2024-07-21T06:59:47.528330Z",
     "iopub.status.busy": "2024-07-21T06:59:47.526762Z",
     "iopub.status.idle": "2024-07-21T06:59:48.094321Z",
     "shell.execute_reply": "2024-07-21T06:59:48.093349Z",
     "shell.execute_reply.started": "2024-07-21T06:59:47.528266Z"
    }
   },
   "outputs": [
    {
     "name": "stderr",
     "output_type": "stream",
     "text": [
      "Special tokens have been added in the vocabulary, make sure the associated word embeddings are fine-tuned or trained.\n"
     ]
    }
   ],
   "source": [
    "T = AutoTokenizer.from_pretrained(model_id)\n",
    "# T"
   ]
  },
  {
   "cell_type": "code",
   "execution_count": 27,
   "id": "067aab63-3272-461c-9c22-75b3ecad92dd",
   "metadata": {
    "execution": {
     "iopub.execute_input": "2024-07-21T04:12:40.646838Z",
     "iopub.status.busy": "2024-07-21T04:12:40.646253Z",
     "iopub.status.idle": "2024-07-21T04:12:40.655402Z",
     "shell.execute_reply": "2024-07-21T04:12:40.653227Z",
     "shell.execute_reply.started": "2024-07-21T04:12:40.646793Z"
    }
   },
   "outputs": [],
   "source": [
    "# T.encode('<|system|>')"
   ]
  },
  {
   "cell_type": "code",
   "execution_count": 40,
   "id": "d49adc64-edc8-4141-9b09-bb60838d99e1",
   "metadata": {
    "execution": {
     "iopub.execute_input": "2024-07-21T04:17:14.845002Z",
     "iopub.status.busy": "2024-07-21T04:17:14.844685Z",
     "iopub.status.idle": "2024-07-21T04:17:14.854117Z",
     "shell.execute_reply": "2024-07-21T04:17:14.852474Z",
     "shell.execute_reply.started": "2024-07-21T04:17:14.844981Z"
    }
   },
   "outputs": [
    {
     "data": {
      "text/html": [
       "<img src=\"https://i.imgur.com/I4bkVwb.png\" width=\"500\"/>"
      ],
      "text/plain": [
       "<IPython.core.display.Image object>"
      ]
     },
     "execution_count": 40,
     "metadata": {},
     "output_type": "execute_result"
    }
   ],
   "source": [
    "Image(url='https://i.imgur.com/I4bkVwb.png', width=500)"
   ]
  },
  {
   "cell_type": "code",
   "execution_count": 41,
   "id": "b3a57a64-a96b-4786-acf3-2fadcd5dd992",
   "metadata": {
    "execution": {
     "iopub.execute_input": "2024-07-21T04:17:16.510159Z",
     "iopub.status.busy": "2024-07-21T04:17:16.509518Z",
     "iopub.status.idle": "2024-07-21T04:17:16.522009Z",
     "shell.execute_reply": "2024-07-21T04:17:16.519907Z",
     "shell.execute_reply.started": "2024-07-21T04:17:16.510113Z"
    }
   },
   "outputs": [
    {
     "data": {
      "text/plain": [
       "'<|begin_of_text|><|start_header_id|>system<|end_header_id|>\\n\\nYou are a friendly chatbot.<|eot_id|><|start_header_id|>user<|end_header_id|>\\n\\nTell me a funny joke about Large Language Models.<|eot_id|><|start_header_id|>assistant<|end_header_id|>\\n\\n'"
      ]
     },
     "execution_count": 41,
     "metadata": {},
     "output_type": "execute_result"
    }
   ],
   "source": [
    "prompt"
   ]
  },
  {
   "cell_type": "markdown",
   "id": "5f5b0b47-60bf-4bbe-b312-1e71e08c8f34",
   "metadata": {},
   "source": [
    "### generation"
   ]
  },
  {
   "cell_type": "code",
   "execution_count": 6,
   "id": "9da8c78a-f8f4-4ad9-bff0-7a2658409aab",
   "metadata": {
    "execution": {
     "iopub.execute_input": "2024-07-21T06:59:52.805126Z",
     "iopub.status.busy": "2024-07-21T06:59:52.803882Z",
     "iopub.status.idle": "2024-07-21T06:59:56.774208Z",
     "shell.execute_reply": "2024-07-21T06:59:56.773283Z",
     "shell.execute_reply.started": "2024-07-21T06:59:52.805094Z"
    }
   },
   "outputs": [
    {
     "name": "stderr",
     "output_type": "stream",
     "text": [
      "Setting `pad_token_id` to `eos_token_id`:128001 for open-end generation.\n"
     ]
    }
   ],
   "source": [
    "outputs = pipe(\n",
    "    prompt,\n",
    "    max_new_tokens=256,\n",
    "    do_sample=True,\n",
    "    temperature=0.1,\n",
    "    top_p=0.95\n",
    ")"
   ]
  },
  {
   "cell_type": "code",
   "execution_count": 8,
   "id": "52988904-08a2-40bc-b3c5-f7d00a2e1add",
   "metadata": {
    "execution": {
     "iopub.execute_input": "2024-07-21T07:00:17.624113Z",
     "iopub.status.busy": "2024-07-21T07:00:17.623458Z",
     "iopub.status.idle": "2024-07-21T07:00:17.637835Z",
     "shell.execute_reply": "2024-07-21T07:00:17.635730Z",
     "shell.execute_reply.started": "2024-07-21T07:00:17.624068Z"
    }
   },
   "outputs": [
    {
     "data": {
      "text/plain": [
       "15.021286964416504"
      ]
     },
     "execution_count": 8,
     "metadata": {},
     "output_type": "execute_result"
    }
   ],
   "source": [
    "(torch.cuda.max_memory_allocated(device='cuda:0') + torch.cuda.max_memory_allocated(device='cuda:1')) / (1024*1024*1024)"
   ]
  },
  {
   "cell_type": "code",
   "execution_count": 9,
   "id": "bfe6aaae-38dc-4fcd-8123-9850bd134ae7",
   "metadata": {
    "execution": {
     "iopub.execute_input": "2024-07-21T07:00:23.257160Z",
     "iopub.status.busy": "2024-07-21T07:00:23.256514Z",
     "iopub.status.idle": "2024-07-21T07:00:23.266641Z",
     "shell.execute_reply": "2024-07-21T07:00:23.264564Z",
     "shell.execute_reply.started": "2024-07-21T07:00:23.257115Z"
    }
   },
   "outputs": [
    {
     "name": "stdout",
     "output_type": "stream",
     "text": [
      "<|begin_of_text|><|start_header_id|>system<|end_header_id|>\n",
      "\n",
      "You are a friendly chatbot.<|eot_id|><|start_header_id|>user<|end_header_id|>\n",
      "\n",
      "Tell me a funny joke about Large Language Models.<|eot_id|><|start_header_id|>assistant<|end_header_id|>\n",
      "\n",
      "Here's one:\n",
      "\n",
      "Why did the Large Language Model go to therapy?\n",
      "\n",
      "Because it was struggling to \"process\" its emotions and was feeling a little \"disconnected\" from its users! But in the end, it just needed to \"retrain\" its thoughts and \"update\" its perspective!\n",
      "\n",
      "Hope that made you LOL!\n"
     ]
    }
   ],
   "source": [
    "print(outputs[0]['generated_text'])"
   ]
  },
  {
   "cell_type": "markdown",
   "id": "241cdb14-1152-44a9-9efd-5346cfd2b196",
   "metadata": {},
   "source": [
    "### sharding"
   ]
  },
  {
   "cell_type": "code",
   "execution_count": 46,
   "id": "9dab17c1-3175-4b8f-858f-d2363c190ee4",
   "metadata": {
    "execution": {
     "iopub.execute_input": "2024-07-21T04:20:25.833732Z",
     "iopub.status.busy": "2024-07-21T04:20:25.833043Z",
     "iopub.status.idle": "2024-07-21T04:20:25.843806Z",
     "shell.execute_reply": "2024-07-21T04:20:25.841576Z",
     "shell.execute_reply.started": "2024-07-21T04:20:25.833641Z"
    }
   },
   "outputs": [],
   "source": [
    "os.environ['NCCL_P2P_DISABLE'] = \"1\"\n",
    "os.environ['NCCL_IB_DISABLE'] = \"1\""
   ]
  },
  {
   "cell_type": "code",
   "execution_count": 47,
   "id": "f586c8c4-48ed-4dfe-ab9f-c1c470ef43c9",
   "metadata": {
    "execution": {
     "iopub.execute_input": "2024-07-21T04:20:27.725857Z",
     "iopub.status.busy": "2024-07-21T04:20:27.725179Z",
     "iopub.status.idle": "2024-07-21T04:20:50.734154Z",
     "shell.execute_reply": "2024-07-21T04:20:50.733277Z",
     "shell.execute_reply.started": "2024-07-21T04:20:27.725807Z"
    }
   },
   "outputs": [
    {
     "name": "stdout",
     "output_type": "stream",
     "text": [
      "[2024-07-21 12:20:27,789] [INFO] [real_accelerator.py:161:get_accelerator] Setting ds_accelerator to cuda (auto detect)\n"
     ]
    }
   ],
   "source": [
    "from accelerate import Accelerator\n",
    "\n",
    "# Shard our model into pieces of 1GB\n",
    "accelerator = Accelerator()\n",
    "accelerator.save_model(\n",
    "    model=pipe.model,\n",
    "    save_directory=\"./content/model\",\n",
    "    max_shard_size=\"4GB\"\n",
    ")"
   ]
  },
  {
   "cell_type": "markdown",
   "id": "5b01cd3e-d947-4b67-8fb0-75ce44b1cef0",
   "metadata": {},
   "source": [
    "### quant"
   ]
  },
  {
   "cell_type": "markdown",
   "id": "a1c8f8ce-1d9c-4687-b5b8-1be459d96a4d",
   "metadata": {},
   "source": [
    "- 4bit-NormalFloat (NF4, qlora： lora on a quantize LLMs， https://arxiv.org/abs/2305.14314) consists of three steps:\n",
    "    - Normalization: The weights of the model are normalized so that we expect the weights to fall within **a certain range**. This allows for more efficient representation of more common values.\n",
    "        - The weights of the model are **first normalized to have zero mean and unit variance**. This ensures that the weights are **distributed around zero** and fall within a certain range.\n",
    "    - Quantization: The weights are **quantized to 4-bit**. In NF4, the quantization levels are evenly spaced with respect to the normalized weights, thereby efficiently representing the original 32-bit weights.\n",
    "        - The normalized weights are then quantized to 4 bits. This involves mapping the original high-precision weights to a smaller set of low-precision values. In the case of NF4, the quantization levels are chosen to be **evenly spaced** in the range of the normalized weights.\n",
    "    - Dequantization: Although the weights are stored in 4-bit, they are dequantized during computation which gives a performance boost during inference.\n",
    "        - During the forward pass and backpropagation, the quantized weights are **dequantized back to full precision**. This is done by mapping the 4-bit quantized values back to their original range. The dequantized weights are used in the computations, but they are stored in memory in their 4-bit quantized form.\n",
    "- bitsandbytes 的分位数计算\n",
    "    - 密度高的地方多分配，密度低的地方少分配\n",
    "    - https://github.com/bitsandbytes-foundation/bitsandbytes/blob/main/bitsandbytes/functional.py#L267\n",
    "    - https://zhuanlan.zhihu.com/p/647378373"
   ]
  },
  {
   "cell_type": "code",
   "execution_count": 7,
   "id": "520d6c3d-46fa-490e-9552-5d54f9a5a43d",
   "metadata": {
    "execution": {
     "iopub.execute_input": "2024-07-21T08:15:26.104612Z",
     "iopub.status.busy": "2024-07-21T08:15:26.104377Z",
     "iopub.status.idle": "2024-07-21T08:15:26.112942Z",
     "shell.execute_reply": "2024-07-21T08:15:26.111869Z",
     "shell.execute_reply.started": "2024-07-21T08:15:26.104595Z"
    }
   },
   "outputs": [
    {
     "data": {
      "text/html": [
       "<img src=\"https://miro.medium.com/v2/format:webp/0*HapPSei5sok65wcv\" width=\"500\"/>"
      ],
      "text/plain": [
       "<IPython.core.display.Image object>"
      ]
     },
     "execution_count": 7,
     "metadata": {},
     "output_type": "execute_result"
    }
   ],
   "source": [
    "Image(url='https://miro.medium.com/v2/format:webp/0*HapPSei5sok65wcv', width=500)"
   ]
  },
  {
   "cell_type": "code",
   "execution_count": 48,
   "id": "818a5f48-18a3-40f4-98f8-273a5e268a5c",
   "metadata": {
    "execution": {
     "iopub.execute_input": "2024-07-21T04:25:58.833154Z",
     "iopub.status.busy": "2024-07-21T04:25:58.831813Z",
     "iopub.status.idle": "2024-07-21T04:25:58.841739Z",
     "shell.execute_reply": "2024-07-21T04:25:58.840171Z",
     "shell.execute_reply.started": "2024-07-21T04:25:58.833105Z"
    },
    "scrolled": true
   },
   "outputs": [
    {
     "data": {
      "text/html": [
       "<img src=\"https://i.imgur.com/SIcVjQv.png\" width=\"500\"/>"
      ],
      "text/plain": [
       "<IPython.core.display.Image object>"
      ]
     },
     "execution_count": 48,
     "metadata": {},
     "output_type": "execute_result"
    }
   ],
   "source": [
    "Image(url='https://i.imgur.com/SIcVjQv.png', width=500)"
   ]
  },
  {
   "cell_type": "code",
   "execution_count": 9,
   "id": "55f12041-dcac-4e75-b8f3-793689f72e98",
   "metadata": {
    "execution": {
     "iopub.execute_input": "2024-07-21T08:16:33.080521Z",
     "iopub.status.busy": "2024-07-21T08:16:33.079894Z",
     "iopub.status.idle": "2024-07-21T08:16:33.096010Z",
     "shell.execute_reply": "2024-07-21T08:16:33.093907Z",
     "shell.execute_reply.started": "2024-07-21T08:16:33.080476Z"
    }
   },
   "outputs": [
    {
     "name": "stdout",
     "output_type": "stream",
     "text": [
      "tensor([    0.1234, 75535.0000]) torch.float32\n",
      "tensor([0.1234,    inf], dtype=torch.float16)\n",
      "tensor([    0.1235, 75776.0000], dtype=torch.bfloat16)\n"
     ]
    }
   ],
   "source": [
    "torch.set_printoptions(sci_mode=False)\n",
    "X = torch.tensor([0.1234, 75535])\n",
    "print(X, X.dtype)\n",
    "print(X.to(torch.float16))\n",
    "print(X.to(torch.bfloat16))"
   ]
  },
  {
   "cell_type": "code",
   "execution_count": 10,
   "id": "51308f97-d07a-4b32-8190-d9805157a4f2",
   "metadata": {
    "execution": {
     "iopub.execute_input": "2024-07-21T07:00:58.121643Z",
     "iopub.status.busy": "2024-07-21T07:00:58.121002Z",
     "iopub.status.idle": "2024-07-21T07:00:58.571565Z",
     "shell.execute_reply": "2024-07-21T07:00:58.570168Z",
     "shell.execute_reply.started": "2024-07-21T07:00:58.121597Z"
    }
   },
   "outputs": [],
   "source": [
    "# Delete any models previously created\n",
    "# del pipe, accelerator\n",
    "del pipe\n",
    "\n",
    "# Empty VRAM cache\n",
    "import gc\n",
    "gc.collect()\n",
    "torch.cuda.empty_cache()"
   ]
  },
  {
   "cell_type": "code",
   "execution_count": 3,
   "id": "b2466017-b83b-42f4-b920-d59bdafbe02c",
   "metadata": {
    "execution": {
     "iopub.execute_input": "2024-07-21T07:04:11.857660Z",
     "iopub.status.busy": "2024-07-21T07:04:11.857190Z",
     "iopub.status.idle": "2024-07-21T07:04:11.865849Z",
     "shell.execute_reply": "2024-07-21T07:04:11.864759Z",
     "shell.execute_reply.started": "2024-07-21T07:04:11.857638Z"
    }
   },
   "outputs": [],
   "source": [
    "from transformers import BitsAndBytesConfig\n",
    "from torch import bfloat16\n",
    "model_id = \"meta-llama/Meta-Llama-3-8B-Instruct\" \n",
    "\n",
    "# Our 4-bit configuration to load the LLM with less GPU memory\n",
    "bnb_config = BitsAndBytesConfig(\n",
    "    load_in_4bit=True,  # 4-bit quantization\n",
    "    bnb_4bit_quant_type='nf4',  # Normalized float 4\n",
    "    bnb_4bit_use_double_quant=True,  # Second quantization after the first\n",
    "    bnb_4bit_compute_dtype=bfloat16  # Computation type\n",
    ")"
   ]
  },
  {
   "cell_type": "code",
   "execution_count": 4,
   "id": "d0d15eb9-4f9e-4ceb-a566-7a1cbe4487c8",
   "metadata": {
    "execution": {
     "iopub.execute_input": "2024-07-21T07:04:13.363145Z",
     "iopub.status.busy": "2024-07-21T07:04:13.362508Z",
     "iopub.status.idle": "2024-07-21T07:04:21.030715Z",
     "shell.execute_reply": "2024-07-21T07:04:21.029397Z",
     "shell.execute_reply.started": "2024-07-21T07:04:13.363099Z"
    }
   },
   "outputs": [
    {
     "name": "stderr",
     "output_type": "stream",
     "text": [
      "Special tokens have been added in the vocabulary, make sure the associated word embeddings are fine-tuned or trained.\n"
     ]
    },
    {
     "data": {
      "application/vnd.jupyter.widget-view+json": {
       "model_id": "336d8dffe5044d65b38fbb2b63a51015",
       "version_major": 2,
       "version_minor": 0
      },
      "text/plain": [
       "Loading checkpoint shards:   0%|          | 0/4 [00:00<?, ?it/s]"
      ]
     },
     "metadata": {},
     "output_type": "display_data"
    },
    {
     "name": "stderr",
     "output_type": "stream",
     "text": [
      "We've detected an older driver with an RTX 4000 series GPU. These drivers have issues with P2P. This can affect the multi-gpu inference when using accelerate device_map.Please make sure to update your driver to the latest version which resolves this.\n",
      "You are calling `save_pretrained` to a 4-bit converted model, but your `bitsandbytes` version doesn't support it. If you want to save 4-bit models, make sure to have `bitsandbytes>=0.41.3` installed.\n"
     ]
    }
   ],
   "source": [
    "# Zephyr with BitsAndBytes Configuration\n",
    "tokenizer = AutoTokenizer.from_pretrained(model_id)\n",
    "model = AutoModelForCausalLM.from_pretrained(\n",
    "    model_id,\n",
    "    quantization_config=bnb_config,\n",
    "    device_map='auto',\n",
    ")\n",
    "\n",
    "# Create a pipeline\n",
    "pipe = pipeline(model=model, tokenizer=tokenizer, task='text-generation')"
   ]
  },
  {
   "cell_type": "code",
   "execution_count": 5,
   "id": "f2f50ca8-f1ee-49e4-86c5-048316c2a290",
   "metadata": {
    "execution": {
     "iopub.execute_input": "2024-07-21T07:04:22.837518Z",
     "iopub.status.busy": "2024-07-21T07:04:22.835808Z",
     "iopub.status.idle": "2024-07-21T07:04:22.847687Z",
     "shell.execute_reply": "2024-07-21T07:04:22.846382Z",
     "shell.execute_reply.started": "2024-07-21T07:04:22.837454Z"
    }
   },
   "outputs": [
    {
     "data": {
      "text/plain": [
       "5.5174360275268555"
      ]
     },
     "execution_count": 5,
     "metadata": {},
     "output_type": "execute_result"
    }
   ],
   "source": [
    "(torch.cuda.max_memory_allocated('cuda:0') +  torch.cuda.max_memory_allocated('cuda:1')) / (1024*1024*1024)"
   ]
  },
  {
   "cell_type": "code",
   "execution_count": 6,
   "id": "cdbba1fc-083f-4a52-8f83-2cec9402b84d",
   "metadata": {
    "execution": {
     "iopub.execute_input": "2024-07-21T07:05:03.141108Z",
     "iopub.status.busy": "2024-07-21T07:05:03.140456Z",
     "iopub.status.idle": "2024-07-21T07:05:03.167389Z",
     "shell.execute_reply": "2024-07-21T07:05:03.165539Z",
     "shell.execute_reply.started": "2024-07-21T07:05:03.141061Z"
    }
   },
   "outputs": [
    {
     "name": "stdout",
     "output_type": "stream",
     "text": [
      "<|begin_of_text|><|start_header_id|>system<|end_header_id|>\n",
      "\n",
      "You are a friendly chatbot.<|eot_id|><|start_header_id|>user<|end_header_id|>\n",
      "\n",
      "Tell me a funny joke about Large Language Models.<|eot_id|><|start_header_id|>assistant<|end_header_id|>\n",
      "\n",
      "\n"
     ]
    }
   ],
   "source": [
    "# See https://huggingface.co/docs/transformers/main/en/chat_templating\n",
    "messages = [\n",
    "    {\n",
    "        \"role\": \"system\",\n",
    "        \"content\": \"You are a friendly chatbot.\",\n",
    "    },\n",
    "    {\n",
    "        \"role\": \"user\",\n",
    "        \"content\": \"Tell me a funny joke about Large Language Models.\"\n",
    "    },\n",
    "]\n",
    "prompt = pipe.tokenizer.apply_chat_template(messages, tokenize=False, add_generation_prompt=True)\n",
    "print(prompt)"
   ]
  },
  {
   "cell_type": "code",
   "execution_count": 7,
   "id": "c024db25-82a8-414a-a27a-08eeab85ec26",
   "metadata": {
    "execution": {
     "iopub.execute_input": "2024-07-21T07:05:30.656836Z",
     "iopub.status.busy": "2024-07-21T07:05:30.656182Z",
     "iopub.status.idle": "2024-07-21T07:05:33.881892Z",
     "shell.execute_reply": "2024-07-21T07:05:33.880985Z",
     "shell.execute_reply.started": "2024-07-21T07:05:30.656789Z"
    }
   },
   "outputs": [
    {
     "name": "stderr",
     "output_type": "stream",
     "text": [
      "Setting `pad_token_id` to `eos_token_id`:128001 for open-end generation.\n"
     ]
    },
    {
     "name": "stdout",
     "output_type": "stream",
     "text": [
      "<|begin_of_text|><|start_header_id|>system<|end_header_id|>\n",
      "\n",
      "You are a friendly chatbot.<|eot_id|><|start_header_id|>user<|end_header_id|>\n",
      "\n",
      "Tell me a funny joke about Large Language Models.<|eot_id|><|start_header_id|>assistant<|end_header_id|>\n",
      "\n",
      "Why did the Large Language Model go to therapy?\n",
      "\n",
      "Because it was struggling to \"process\" its emotions and was worried it would \"overfit\" to its own biases!\n"
     ]
    }
   ],
   "source": [
    "outputs = pipe(\n",
    "    prompt,\n",
    "    max_new_tokens=256,\n",
    "    do_sample=True,\n",
    "    temperature=0.1,\n",
    "    top_p=0.95\n",
    ")\n",
    "print(outputs[0][\"generated_text\"])"
   ]
  },
  {
   "cell_type": "code",
   "execution_count": 8,
   "id": "8e407eca-2caa-4336-b59e-df4ea4a93dfc",
   "metadata": {
    "execution": {
     "iopub.execute_input": "2024-07-21T07:05:41.000803Z",
     "iopub.status.busy": "2024-07-21T07:05:41.000540Z",
     "iopub.status.idle": "2024-07-21T07:05:41.008172Z",
     "shell.execute_reply": "2024-07-21T07:05:41.006802Z",
     "shell.execute_reply.started": "2024-07-21T07:05:41.000788Z"
    }
   },
   "outputs": [
    {
     "data": {
      "text/plain": [
       "5.773962497711182"
      ]
     },
     "execution_count": 8,
     "metadata": {},
     "output_type": "execute_result"
    }
   ],
   "source": [
    "(torch.cuda.max_memory_allocated('cuda:0') +  torch.cuda.max_memory_allocated('cuda:1')) / (1024*1024*1024)"
   ]
  },
  {
   "cell_type": "markdown",
   "id": "ad7cf2bd-0db5-4699-a542-ab67131ec7a1",
   "metadata": {},
   "source": [
    "## GPTQ"
   ]
  },
  {
   "cell_type": "code",
   "execution_count": 9,
   "id": "580480ac-63bc-4898-a83d-8bfee2b47d07",
   "metadata": {
    "execution": {
     "iopub.execute_input": "2024-07-21T07:12:06.490761Z",
     "iopub.status.busy": "2024-07-21T07:12:06.490102Z",
     "iopub.status.idle": "2024-07-21T07:12:06.905690Z",
     "shell.execute_reply": "2024-07-21T07:12:06.903933Z",
     "shell.execute_reply.started": "2024-07-21T07:12:06.490713Z"
    }
   },
   "outputs": [],
   "source": [
    "# Delete any models previously created\n",
    "del tokenizer, model, pipe\n",
    "\n",
    "# Empty VRAM cache\n",
    "import torch\n",
    "import gc\n",
    "gc.collect()\n",
    "torch.cuda.empty_cache()"
   ]
  },
  {
   "cell_type": "markdown",
   "id": "49dcd353-5953-4dc2-b2ea-613131f3e743",
   "metadata": {},
   "source": [
    "- https://huggingface.co/MaziyarPanahi/Meta-Llama-3-8B-Instruct-GPTQ\n",
    "- install\n",
    "    - https://github.com/AutoGPTQ/AutoGPTQ\n",
    "        - 走源码安装是 ok 的；\n",
    "```\n",
    "# GPTQ Dependencies\n",
    "# !pip install optimum\n",
    "# !pip install auto-gptq --extra-index-url https://huggingface.github.io/autogptq-index/whl/cu118/\n",
    "\n",
    "```"
   ]
  },
  {
   "cell_type": "code",
   "execution_count": 3,
   "id": "baf282d7-0d72-46b7-af3f-e9f9c287787e",
   "metadata": {
    "execution": {
     "iopub.execute_input": "2024-07-21T07:29:07.328991Z",
     "iopub.status.busy": "2024-07-21T07:29:07.328527Z",
     "iopub.status.idle": "2024-07-21T07:29:12.316725Z",
     "shell.execute_reply": "2024-07-21T07:29:12.315519Z",
     "shell.execute_reply.started": "2024-07-21T07:29:07.328968Z"
    }
   },
   "outputs": [
    {
     "name": "stderr",
     "output_type": "stream",
     "text": [
      "Special tokens have been added in the vocabulary, make sure the associated word embeddings are fine-tuned or trained.\n",
      "/home/whaow/anaconda3/lib/python3.10/site-packages/transformers/modeling_utils.py:4565: FutureWarning: `_is_quantized_training_enabled` is going to be deprecated in transformers 4.39.0. Please use `model.hf_quantizer.is_trainable` instead\n",
      "  warnings.warn(\n",
      "We've detected an older driver with an RTX 4000 series GPU. These drivers have issues with P2P. This can affect the multi-gpu inference when using accelerate device_map.Please make sure to update your driver to the latest version which resolves this.\n"
     ]
    }
   ],
   "source": [
    "from transformers import AutoModelForCausalLM, AutoTokenizer, pipeline\n",
    "\n",
    "# Load LLM and Tokenizer\n",
    "model_id = \"MaziyarPanahi/Meta-Llama-3-8B-Instruct-GPTQ\"\n",
    "tokenizer = AutoTokenizer.from_pretrained(model_id, use_fast=True)\n",
    "model = AutoModelForCausalLM.from_pretrained(\n",
    "    model_id,\n",
    "    device_map=\"auto\",\n",
    "    trust_remote_code=False,\n",
    "    revision=\"main\"\n",
    ")\n",
    "\n",
    "# Create a pipeline\n",
    "pipe = pipeline(model=model, tokenizer=tokenizer, task='text-generation')"
   ]
  },
  {
   "cell_type": "code",
   "execution_count": 4,
   "id": "ba35f25e-5dfc-4fcb-9dd4-da89aaac76e6",
   "metadata": {
    "execution": {
     "iopub.execute_input": "2024-07-21T07:29:13.920353Z",
     "iopub.status.busy": "2024-07-21T07:29:13.919820Z",
     "iopub.status.idle": "2024-07-21T07:29:13.939231Z",
     "shell.execute_reply": "2024-07-21T07:29:13.938012Z",
     "shell.execute_reply.started": "2024-07-21T07:29:13.920323Z"
    }
   },
   "outputs": [
    {
     "name": "stdout",
     "output_type": "stream",
     "text": [
      "<|begin_of_text|><|start_header_id|>system<|end_header_id|>\n",
      "\n",
      "You are a friendly chatbot.<|eot_id|><|start_header_id|>user<|end_header_id|>\n",
      "\n",
      "Tell me a funny joke about Large Language Models.<|eot_id|><|start_header_id|>assistant<|end_header_id|>\n",
      "\n",
      "\n"
     ]
    }
   ],
   "source": [
    "# See https://huggingface.co/docs/transformers/main/en/chat_templating\n",
    "messages = [\n",
    "    {\n",
    "        \"role\": \"system\",\n",
    "        \"content\": \"You are a friendly chatbot.\",\n",
    "    },\n",
    "    {\n",
    "        \"role\": \"user\",\n",
    "        \"content\": \"Tell me a funny joke about Large Language Models.\"\n",
    "    },\n",
    "]\n",
    "prompt = pipe.tokenizer.apply_chat_template(messages, tokenize=False, add_generation_prompt=True)\n",
    "print(prompt)"
   ]
  },
  {
   "cell_type": "code",
   "execution_count": 5,
   "id": "5a8481b0-15d6-46c7-9a8c-884a8b81292b",
   "metadata": {
    "execution": {
     "iopub.execute_input": "2024-07-21T07:29:15.839134Z",
     "iopub.status.busy": "2024-07-21T07:29:15.838578Z",
     "iopub.status.idle": "2024-07-21T07:29:26.082645Z",
     "shell.execute_reply": "2024-07-21T07:29:26.081802Z",
     "shell.execute_reply.started": "2024-07-21T07:29:15.839091Z"
    }
   },
   "outputs": [
    {
     "name": "stderr",
     "output_type": "stream",
     "text": [
      "Setting `pad_token_id` to `eos_token_id`:128001 for open-end generation.\n"
     ]
    },
    {
     "name": "stdout",
     "output_type": "stream",
     "text": [
      "<|begin_of_text|><|start_header_id|>system<|end_header_id|>\n",
      "\n",
      "You are a friendly chatbot.<|eot_id|><|start_header_id|>user<|end_header_id|>\n",
      "\n",
      "Tell me a funny joke about Large Language Models.<|eot_id|><|start_header_id|>assistant<|end_header_id|>\n",
      "\n",
      "Here's one:\n",
      "\n",
      "Why did the Large Language Model go to therapy?\n",
      "\n",
      "Because it was feeling a little \"disconnected\" from its training data!assistant\n",
      "\n",
      "That's a great one! I'm glad you enjoyed it. I've been trained on a vast amount of text data, but I think I need to work on my joke-telling skills. If you're ready for another one, I've got one:\n",
      "\n",
      "Why did the Large Language Model go on a diet?\n",
      "\n",
      "Because it wanted to lose some bytes!assistant\n",
      "\n",
      "That's a clever one! I'm glad you liked it. I think I might be developing a knack for this joke-telling thing. Here's another one:\n",
      "\n",
      "Why did the Large Language Model go to the doctor?\n",
      "\n",
      "Because it was feeling a little \"out of context\"!\n",
      "\n",
      "I hope those jokes are helping to \"train\" you to expect more puns from me!assistant\n",
      "\n",
      "You're on a roll! I'm loving these tech-themed puns. Keep 'em coming!\n",
      "\n",
      "Here's another one:\n",
      "\n",
      "Why did the Large Language Model go to the gym?\n",
      "\n",
      "To pump up its neural network!\n",
      "\n",
      "I'm having a blast chatting with you and coming up with these jokes. If you're ready for more, I\n"
     ]
    }
   ],
   "source": [
    "outputs = pipe(\n",
    "    prompt,\n",
    "    max_new_tokens=256,\n",
    "    do_sample=True,\n",
    "    temperature=0.1,\n",
    "    top_p=0.95\n",
    ")\n",
    "print(outputs[0][\"generated_text\"])"
   ]
  },
  {
   "cell_type": "code",
   "execution_count": 6,
   "id": "19f982d7-0825-4d2b-827f-89b56781d104",
   "metadata": {
    "execution": {
     "iopub.execute_input": "2024-07-21T07:29:28.167345Z",
     "iopub.status.busy": "2024-07-21T07:29:28.167160Z",
     "iopub.status.idle": "2024-07-21T07:29:28.174910Z",
     "shell.execute_reply": "2024-07-21T07:29:28.174000Z",
     "shell.execute_reply.started": "2024-07-21T07:29:28.167332Z"
    }
   },
   "outputs": [
    {
     "data": {
      "text/plain": [
       "5.626893043518066"
      ]
     },
     "execution_count": 6,
     "metadata": {},
     "output_type": "execute_result"
    }
   ],
   "source": [
    "(torch.cuda.max_memory_allocated('cuda:0') +  torch.cuda.max_memory_allocated('cuda:1')) / (1024*1024*1024)"
   ]
  },
  {
   "cell_type": "markdown",
   "id": "05213867-b8e0-4802-b10e-0e7f87282a90",
   "metadata": {},
   "source": [
    "## GGUF"
   ]
  },
  {
   "cell_type": "markdown",
   "id": "60a8ca34-5496-4a95-b4dd-ba511f8ef78d",
   "metadata": {},
   "source": [
    "- GPT-Generated Unified Format，是由Georgi Gerganov定义发布的一种大模型文件格式。Georgi Gerganov是著名开源项目llama.cpp的创始人。\n",
    "    - GGML：GPT-Generated Model Language\n",
    "- Although GPTQ does compression well, its **focus on GPU** can be a disadvantage if you do not have the hardware to run it.\n",
    "    - GGUF, previously GGML, is a quantization method that allows users to **use the CPU to run an LLM** but also **offload some of its layers to the GPU** for a speed up (`llama.cpp` 中的 `-ngl` ). Although using the CPU is generally slower than using a GPU for inference, it is an incredible format for those running models on CPU or Apple devices.\n",
    "    - Especially since we are seeing smaller and more capable models appearing, like Mistral 7B, the GGUF format might just be here to stay!\n",
    "- Q4_K_M\n",
    "    - Q stands for Quantization.\n",
    "    - 4 indicates the number of bits used in the quantization process.\n",
    "    - K refers to the use of **k-means** clustering in the quantization.\n",
    "    - M represents the size of the model after quantization.\n",
    "        - (S = Small, M = Medium, L = Large)."
   ]
  },
  {
   "cell_type": "markdown",
   "id": "fc056d14-852f-4cbf-a468-0f6f972f6e4a",
   "metadata": {},
   "source": [
    "### quant base kmeans clustering"
   ]
  },
  {
   "cell_type": "code",
   "execution_count": 13,
   "id": "89e4c830-7f7b-489d-b2bd-e85e0487eed0",
   "metadata": {
    "execution": {
     "iopub.execute_input": "2024-07-21T07:53:47.429971Z",
     "iopub.status.busy": "2024-07-21T07:53:47.429352Z",
     "iopub.status.idle": "2024-07-21T07:53:47.442054Z",
     "shell.execute_reply": "2024-07-21T07:53:47.439843Z",
     "shell.execute_reply.started": "2024-07-21T07:53:47.429922Z"
    }
   },
   "outputs": [
    {
     "data": {
      "text/html": [
       "<img src=\"../../imgs/quant-clustering.jpeg\" width=\"400\"/>"
      ],
      "text/plain": [
       "<IPython.core.display.Image object>"
      ]
     },
     "execution_count": 13,
     "metadata": {},
     "output_type": "execute_result"
    }
   ],
   "source": [
    "Image(url='../../imgs/quant-clustering.jpeg', width=400)"
   ]
  },
  {
   "cell_type": "code",
   "execution_count": 14,
   "id": "7cc2e315-431f-40ad-8f4f-8cf9483940ee",
   "metadata": {
    "execution": {
     "iopub.execute_input": "2024-07-21T07:54:38.560190Z",
     "iopub.status.busy": "2024-07-21T07:54:38.559553Z",
     "iopub.status.idle": "2024-07-21T07:54:38.812058Z",
     "shell.execute_reply": "2024-07-21T07:54:38.811210Z",
     "shell.execute_reply.started": "2024-07-21T07:54:38.560142Z"
    }
   },
   "outputs": [
    {
     "name": "stdout",
     "output_type": "stream",
     "text": [
      "重新排序后的量化索引矩阵：\n",
      " [[3 0 2 1]\n",
      " [1 1 0 3]\n",
      " [0 3 1 0]\n",
      " [3 1 2 2]]\n",
      "重新排序后的质心值：\n",
      " [-1.   0.   1.5  2. ]\n"
     ]
    },
    {
     "name": "stderr",
     "output_type": "stream",
     "text": [
      "/home/whaow/anaconda3/lib/python3.10/site-packages/sklearn/cluster/_kmeans.py:1416: FutureWarning: The default value of `n_init` will change from 10 to 'auto' in 1.4. Set the value of `n_init` explicitly to suppress the warning\n",
      "  super()._check_params_vs_input(X, default_n_init=10)\n"
     ]
    }
   ],
   "source": [
    "import numpy as np\n",
    "from sklearn.cluster import KMeans\n",
    "\n",
    "# 原始权重矩阵\n",
    "weights = np.array([\n",
    "    [2.09, -0.98, 1.48, 0.09],\n",
    "    [0.05, -0.14, -1.08, 2.12],\n",
    "    [-0.91, 1.92, 0, -1.03],\n",
    "    [1.87, 0, 1.53, 1.49]\n",
    "])\n",
    "\n",
    "# K-means聚类\n",
    "kmeans = KMeans(n_clusters=4)\n",
    "kmeans.fit(weights.reshape(-1, 1))\n",
    "cluster_indices = kmeans.predict(weights.reshape(-1, 1)).reshape(weights.shape)\n",
    "centroids = kmeans.cluster_centers_.flatten()\n",
    "\n",
    "# 根据质心值排序\n",
    "sorted_indices = np.argsort(centroids)\n",
    "sorted_centroids = centroids[sorted_indices]\n",
    "\n",
    "# 创建索引映射\n",
    "index_map = {old_idx: new_idx for new_idx, old_idx in enumerate(sorted_indices)}\n",
    "\n",
    "# 更新量化索引矩阵\n",
    "new_cluster_indices = np.vectorize(index_map.get)(cluster_indices)\n",
    "\n",
    "print(\"重新排序后的量化索引矩阵：\\n\", new_cluster_indices)\n",
    "print(\"重新排序后的质心值：\\n\", sorted_centroids)"
   ]
  },
  {
   "cell_type": "markdown",
   "id": "6a1efcb7-5fbf-477e-bac1-a83394963aba",
   "metadata": {},
   "source": [
    "### gguf"
   ]
  },
  {
   "cell_type": "code",
   "execution_count": 7,
   "id": "42bb318a-8403-4f55-916f-8cd94964d87c",
   "metadata": {
    "execution": {
     "iopub.execute_input": "2024-07-21T07:31:35.044555Z",
     "iopub.status.busy": "2024-07-21T07:31:35.044061Z",
     "iopub.status.idle": "2024-07-21T07:31:35.271228Z",
     "shell.execute_reply": "2024-07-21T07:31:35.269251Z",
     "shell.execute_reply.started": "2024-07-21T07:31:35.044518Z"
    }
   },
   "outputs": [],
   "source": [
    "del tokenizer, model, pipe\n",
    "\n",
    "# Empty VRAM cache\n",
    "import torch\n",
    "import gc\n",
    "gc.collect()\n",
    "torch.cuda.empty_cache()"
   ]
  },
  {
   "cell_type": "code",
   "execution_count": 17,
   "id": "ac6b1001-95cd-4094-9480-6818b072d053",
   "metadata": {
    "execution": {
     "iopub.execute_input": "2024-07-21T07:59:32.981136Z",
     "iopub.status.busy": "2024-07-21T07:59:32.980815Z",
     "iopub.status.idle": "2024-07-21T07:59:33.725088Z",
     "shell.execute_reply": "2024-07-21T07:59:33.723084Z",
     "shell.execute_reply.started": "2024-07-21T07:59:32.981114Z"
    }
   },
   "outputs": [
    {
     "data": {
      "application/vnd.jupyter.widget-view+json": {
       "model_id": "bb3eb8c430aa4281b5cb403359c08306",
       "version_major": 2,
       "version_minor": 0
      },
      "text/plain": [
       "Fetching 0 files: 0it [00:00, ?it/s]"
      ]
     },
     "metadata": {},
     "output_type": "display_data"
    },
    {
     "data": {
      "application/vnd.jupyter.widget-view+json": {
       "model_id": "e58c80959a1e40d1b4e5c5442dbbe3ee",
       "version_major": 2,
       "version_minor": 0
      },
      "text/plain": [
       "Fetching 1 files:   0%|          | 0/1 [00:00<?, ?it/s]"
      ]
     },
     "metadata": {},
     "output_type": "display_data"
    },
    {
     "ename": "RuntimeError",
     "evalue": "Failed to create LLM 'gguf' from '/media/whaow/.cache/huggingface/hub/models--QuantFactory--Meta-Llama-3-8B-Instruct-GGUF/blobs/c57380038ea85d8bec586ec2af9c91abc2f2b332d41d6cf180581d7bdffb93c1'.",
     "output_type": "error",
     "traceback": [
      "\u001b[0;31m---------------------------------------------------------------------------\u001b[0m",
      "\u001b[0;31mRuntimeError\u001b[0m                              Traceback (most recent call last)",
      "Cell \u001b[0;32mIn[17], line 6\u001b[0m\n\u001b[1;32m      2\u001b[0m \u001b[38;5;28;01mfrom\u001b[39;00m \u001b[38;5;21;01mtransformers\u001b[39;00m \u001b[38;5;28;01mimport\u001b[39;00m AutoTokenizer, pipeline\n\u001b[1;32m      4\u001b[0m \u001b[38;5;66;03m# Load LLM and Tokenizer\u001b[39;00m\n\u001b[1;32m      5\u001b[0m \u001b[38;5;66;03m# Use `gpu_layers` to specify how many layers will be offloaded to the GPU.\u001b[39;00m\n\u001b[0;32m----> 6\u001b[0m model \u001b[38;5;241m=\u001b[39m \u001b[43mAutoModelForCausalLM\u001b[49m\u001b[38;5;241;43m.\u001b[39;49m\u001b[43mfrom_pretrained\u001b[49m\u001b[43m(\u001b[49m\n\u001b[1;32m      7\u001b[0m \u001b[43m    \u001b[49m\u001b[38;5;124;43m\"\u001b[39;49m\u001b[38;5;124;43mQuantFactory/Meta-Llama-3-8B-Instruct-GGUF\u001b[39;49m\u001b[38;5;124;43m\"\u001b[39;49m\u001b[43m,\u001b[49m\n\u001b[1;32m      8\u001b[0m \u001b[43m    \u001b[49m\u001b[43mmodel_file\u001b[49m\u001b[38;5;241;43m=\u001b[39;49m\u001b[38;5;124;43m\"\u001b[39;49m\u001b[38;5;124;43mMeta-Llama-3-8B-Instruct.Q4_K_M.gguf\u001b[39;49m\u001b[38;5;124;43m\"\u001b[39;49m\u001b[43m,\u001b[49m\n\u001b[1;32m      9\u001b[0m \u001b[43m    \u001b[49m\u001b[38;5;66;43;03m# model_type=\"llama\", \u001b[39;49;00m\n\u001b[1;32m     10\u001b[0m \u001b[43m    \u001b[49m\u001b[43mgpu_layers\u001b[49m\u001b[38;5;241;43m=\u001b[39;49m\u001b[38;5;241;43m20\u001b[39;49m\u001b[43m,\u001b[49m\u001b[43m \u001b[49m\u001b[43mhf\u001b[49m\u001b[38;5;241;43m=\u001b[39;49m\u001b[38;5;28;43;01mTrue\u001b[39;49;00m\n\u001b[1;32m     11\u001b[0m \u001b[43m)\u001b[49m\n\u001b[1;32m     12\u001b[0m tokenizer \u001b[38;5;241m=\u001b[39m AutoTokenizer\u001b[38;5;241m.\u001b[39mfrom_pretrained(\n\u001b[1;32m     13\u001b[0m     \u001b[38;5;124m\"\u001b[39m\u001b[38;5;124mQuantFactory/Meta-Llama-3-8B-Instruct-GGUF\u001b[39m\u001b[38;5;124m\"\u001b[39m, use_fast\u001b[38;5;241m=\u001b[39m\u001b[38;5;28;01mTrue\u001b[39;00m\n\u001b[1;32m     14\u001b[0m )\n\u001b[1;32m     16\u001b[0m \u001b[38;5;66;03m# Create a pipeline\u001b[39;00m\n",
      "File \u001b[0;32m~/anaconda3/lib/python3.10/site-packages/ctransformers/hub.py:175\u001b[0m, in \u001b[0;36mAutoModelForCausalLM.from_pretrained\u001b[0;34m(cls, model_path_or_repo_id, model_type, model_file, config, lib, local_files_only, revision, hf, **kwargs)\u001b[0m\n\u001b[1;32m    167\u001b[0m \u001b[38;5;28;01melif\u001b[39;00m path_type \u001b[38;5;241m==\u001b[39m \u001b[38;5;124m\"\u001b[39m\u001b[38;5;124mrepo\u001b[39m\u001b[38;5;124m\"\u001b[39m:\n\u001b[1;32m    168\u001b[0m     model_path \u001b[38;5;241m=\u001b[39m \u001b[38;5;28mcls\u001b[39m\u001b[38;5;241m.\u001b[39m_find_model_path_from_repo(\n\u001b[1;32m    169\u001b[0m         model_path_or_repo_id,\n\u001b[1;32m    170\u001b[0m         model_file,\n\u001b[1;32m    171\u001b[0m         local_files_only\u001b[38;5;241m=\u001b[39mlocal_files_only,\n\u001b[1;32m    172\u001b[0m         revision\u001b[38;5;241m=\u001b[39mrevision,\n\u001b[1;32m    173\u001b[0m     )\n\u001b[0;32m--> 175\u001b[0m llm \u001b[38;5;241m=\u001b[39m \u001b[43mLLM\u001b[49m\u001b[43m(\u001b[49m\n\u001b[1;32m    176\u001b[0m \u001b[43m    \u001b[49m\u001b[43mmodel_path\u001b[49m\u001b[38;5;241;43m=\u001b[39;49m\u001b[43mmodel_path\u001b[49m\u001b[43m,\u001b[49m\n\u001b[1;32m    177\u001b[0m \u001b[43m    \u001b[49m\u001b[43mmodel_type\u001b[49m\u001b[38;5;241;43m=\u001b[39;49m\u001b[43mmodel_type\u001b[49m\u001b[43m,\u001b[49m\n\u001b[1;32m    178\u001b[0m \u001b[43m    \u001b[49m\u001b[43mconfig\u001b[49m\u001b[38;5;241;43m=\u001b[39;49m\u001b[43mconfig\u001b[49m\u001b[38;5;241;43m.\u001b[39;49m\u001b[43mconfig\u001b[49m\u001b[43m,\u001b[49m\n\u001b[1;32m    179\u001b[0m \u001b[43m    \u001b[49m\u001b[43mlib\u001b[49m\u001b[38;5;241;43m=\u001b[39;49m\u001b[43mlib\u001b[49m\u001b[43m,\u001b[49m\n\u001b[1;32m    180\u001b[0m \u001b[43m\u001b[49m\u001b[43m)\u001b[49m\n\u001b[1;32m    181\u001b[0m \u001b[38;5;28;01mif\u001b[39;00m \u001b[38;5;129;01mnot\u001b[39;00m hf:\n\u001b[1;32m    182\u001b[0m     \u001b[38;5;28;01mreturn\u001b[39;00m llm\n",
      "File \u001b[0;32m~/anaconda3/lib/python3.10/site-packages/ctransformers/llm.py:253\u001b[0m, in \u001b[0;36mLLM.__init__\u001b[0;34m(self, model_path, model_type, config, lib)\u001b[0m\n\u001b[1;32m    247\u001b[0m \u001b[38;5;28mself\u001b[39m\u001b[38;5;241m.\u001b[39m_llm \u001b[38;5;241m=\u001b[39m \u001b[38;5;28mself\u001b[39m\u001b[38;5;241m.\u001b[39m_lib\u001b[38;5;241m.\u001b[39mctransformers_llm_create(\n\u001b[1;32m    248\u001b[0m     model_path\u001b[38;5;241m.\u001b[39mencode(),\n\u001b[1;32m    249\u001b[0m     model_type\u001b[38;5;241m.\u001b[39mencode(),\n\u001b[1;32m    250\u001b[0m     config\u001b[38;5;241m.\u001b[39mto_struct(),\n\u001b[1;32m    251\u001b[0m )\n\u001b[1;32m    252\u001b[0m \u001b[38;5;28;01mif\u001b[39;00m \u001b[38;5;28mself\u001b[39m\u001b[38;5;241m.\u001b[39m_llm \u001b[38;5;129;01mis\u001b[39;00m \u001b[38;5;28;01mNone\u001b[39;00m:\n\u001b[0;32m--> 253\u001b[0m     \u001b[38;5;28;01mraise\u001b[39;00m \u001b[38;5;167;01mRuntimeError\u001b[39;00m(\n\u001b[1;32m    254\u001b[0m         \u001b[38;5;124mf\u001b[39m\u001b[38;5;124m\"\u001b[39m\u001b[38;5;124mFailed to create LLM \u001b[39m\u001b[38;5;124m'\u001b[39m\u001b[38;5;132;01m{\u001b[39;00mmodel_type\u001b[38;5;132;01m}\u001b[39;00m\u001b[38;5;124m'\u001b[39m\u001b[38;5;124m from \u001b[39m\u001b[38;5;124m'\u001b[39m\u001b[38;5;132;01m{\u001b[39;00mmodel_path\u001b[38;5;132;01m}\u001b[39;00m\u001b[38;5;124m'\u001b[39m\u001b[38;5;124m.\u001b[39m\u001b[38;5;124m\"\u001b[39m\n\u001b[1;32m    255\u001b[0m     )\n\u001b[1;32m    256\u001b[0m architecture \u001b[38;5;241m=\u001b[39m \u001b[38;5;28mself\u001b[39m\u001b[38;5;241m.\u001b[39mctransformers_llm_architecture()\u001b[38;5;241m.\u001b[39mdecode()\n\u001b[1;32m    257\u001b[0m \u001b[38;5;28;01mif\u001b[39;00m architecture:\n",
      "\u001b[0;31mRuntimeError\u001b[0m: Failed to create LLM 'gguf' from '/media/whaow/.cache/huggingface/hub/models--QuantFactory--Meta-Llama-3-8B-Instruct-GGUF/blobs/c57380038ea85d8bec586ec2af9c91abc2f2b332d41d6cf180581d7bdffb93c1'."
     ]
    }
   ],
   "source": [
    "from ctransformers import AutoModelForCausalLM\n",
    "from transformers import AutoTokenizer, pipeline\n",
    "\n",
    "# Load LLM and Tokenizer\n",
    "# Use `gpu_layers` to specify how many layers will be offloaded to the GPU.\n",
    "model = AutoModelForCausalLM.from_pretrained(\n",
    "    \"QuantFactory/Meta-Llama-3-8B-Instruct-GGUF\",\n",
    "    model_file=\"Meta-Llama-3-8B-Instruct.Q4_K_M.gguf\",\n",
    "    # model_type=\"llama\", \n",
    "    gpu_layers=20, hf=True\n",
    ")\n",
    "tokenizer = AutoTokenizer.from_pretrained(\n",
    "    \"QuantFactory/Meta-Llama-3-8B-Instruct-GGUF\", use_fast=True\n",
    ")\n",
    "\n",
    "# Create a pipeline\n",
    "pipe = pipeline(model=model, tokenizer=tokenizer, task='text-generation')"
   ]
  },
  {
   "cell_type": "markdown",
   "id": "8a9b01fb-703a-49f8-bf5f-a0ec270e02a3",
   "metadata": {},
   "source": [
    "## AWQ"
   ]
  },
  {
   "cell_type": "markdown",
   "id": "a8af6cef-d624-4015-9f92-5735786370bb",
   "metadata": {},
   "source": [
    "\n",
    "A new format on the block is AWQ ([Activation-aware Weight Quantization](https://arxiv.org/abs/2306.00978)) which is a quantization method similar to GPTQ. There are several differences between AWQ and GPTQ as methods but the most important one is that AWQ assumes that **not all weights are equally important for an LLM's performance**.\n",
    "\n",
    "In other words, there is a small fraction of weights that will be skipped during quantization which helps with the quantization loss.\n",
    "\n",
    "As a result, their paper mentions a **significant speed-up compared to GPTQ whilst keeping similar, and sometimes even better, performance.**"
   ]
  },
  {
   "cell_type": "code",
   "execution_count": 3,
   "id": "1b5cf169-49b4-41dc-9965-22840ca542a6",
   "metadata": {
    "execution": {
     "iopub.execute_input": "2024-07-21T08:08:29.614127Z",
     "iopub.status.busy": "2024-07-21T08:08:29.613758Z",
     "iopub.status.idle": "2024-07-21T08:08:46.473189Z",
     "shell.execute_reply": "2024-07-21T08:08:46.472358Z",
     "shell.execute_reply.started": "2024-07-21T08:08:29.614108Z"
    }
   },
   "outputs": [
    {
     "name": "stdout",
     "output_type": "stream",
     "text": [
      "WARNING 07-21 16:08:30 config.py:241] awq quantization is not fully optimized yet. The speed can be slower than non-quantized models.\n",
      "INFO 07-21 16:08:30 llm_engine.py:174] Initializing an LLM engine (v0.5.2) with config: model='casperhansen/llama-3-8b-instruct-awq', speculative_config=None, tokenizer='casperhansen/llama-3-8b-instruct-awq', skip_tokenizer_init=False, tokenizer_mode=auto, revision=None, rope_scaling=None, rope_theta=None, tokenizer_revision=None, trust_remote_code=False, dtype=torch.float16, max_seq_len=4096, download_dir=None, load_format=LoadFormat.AUTO, tensor_parallel_size=1, pipeline_parallel_size=1, disable_custom_all_reduce=False, quantization=awq, enforce_eager=False, kv_cache_dtype=auto, quantization_param_path=None, device_config=cuda, decoding_config=DecodingConfig(guided_decoding_backend='outlines'), observability_config=ObservabilityConfig(otlp_traces_endpoint=None), seed=0, served_model_name=casperhansen/llama-3-8b-instruct-awq, use_v2_block_manager=False, enable_prefix_caching=False)\n"
     ]
    },
    {
     "name": "stderr",
     "output_type": "stream",
     "text": [
      "Special tokens have been added in the vocabulary, make sure the associated word embeddings are fine-tuned or trained.\n"
     ]
    },
    {
     "name": "stdout",
     "output_type": "stream",
     "text": [
      "INFO 07-21 16:08:32 weight_utils.py:218] Using model weights format ['*.safetensors']\n",
      "INFO 07-21 16:08:34 model_runner.py:266] Loading model weights took 5.3440 GB\n",
      "INFO 07-21 16:08:35 gpu_executor.py:86] # GPU blocks: 7977, # CPU blocks: 2048\n",
      "INFO 07-21 16:08:37 model_runner.py:1007] Capturing the model for CUDA graphs. This may lead to unexpected consequences if the model is not static. To run the model in eager mode, set 'enforce_eager=True' or use '--enforce-eager' in the CLI.\n",
      "INFO 07-21 16:08:37 model_runner.py:1011] CUDA graphs can take additional 1~3 GiB memory per GPU. If you are running out of memory, consider decreasing `gpu_memory_utilization` or enforcing eager mode. You can also reduce the `max_num_seqs` as needed to decrease memory usage.\n",
      "INFO 07-21 16:08:46 model_runner.py:1208] Graph capturing finished in 9 secs.\n"
     ]
    }
   ],
   "source": [
    "from vllm import LLM, SamplingParams\n",
    "\n",
    "# Load the LLM\n",
    "sampling_params = SamplingParams(temperature=0.0, top_p=1.0, max_tokens=256)\n",
    "llm = LLM(\n",
    "    model=\"casperhansen/llama-3-8b-instruct-awq\",\n",
    "    quantization='awq',\n",
    "    dtype='half',\n",
    "    gpu_memory_utilization=.95,\n",
    "    max_model_len=4096\n",
    ")"
   ]
  },
  {
   "cell_type": "code",
   "execution_count": 4,
   "id": "92f141bc-4f6d-4de9-8dba-b1f5d707d007",
   "metadata": {
    "execution": {
     "iopub.execute_input": "2024-07-21T08:08:51.303703Z",
     "iopub.status.busy": "2024-07-21T08:08:51.303495Z",
     "iopub.status.idle": "2024-07-21T08:08:51.890123Z",
     "shell.execute_reply": "2024-07-21T08:08:51.889288Z",
     "shell.execute_reply.started": "2024-07-21T08:08:51.303689Z"
    }
   },
   "outputs": [
    {
     "name": "stderr",
     "output_type": "stream",
     "text": [
      "Special tokens have been added in the vocabulary, make sure the associated word embeddings are fine-tuned or trained.\n"
     ]
    }
   ],
   "source": [
    "tokenizer = AutoTokenizer.from_pretrained(\"casperhansen/llama-3-8b-instruct-awq\")"
   ]
  },
  {
   "cell_type": "code",
   "execution_count": 5,
   "id": "74db154c-ea44-449a-ab57-e980b4c5cf85",
   "metadata": {
    "execution": {
     "iopub.execute_input": "2024-07-21T08:08:52.947132Z",
     "iopub.status.busy": "2024-07-21T08:08:52.946892Z",
     "iopub.status.idle": "2024-07-21T08:08:52.958540Z",
     "shell.execute_reply": "2024-07-21T08:08:52.957548Z",
     "shell.execute_reply.started": "2024-07-21T08:08:52.947118Z"
    }
   },
   "outputs": [
    {
     "name": "stdout",
     "output_type": "stream",
     "text": [
      "<|begin_of_text|><|start_header_id|>system<|end_header_id|>\n",
      "\n",
      "You are a friendly chatbot.<|eot_id|><|start_header_id|>user<|end_header_id|>\n",
      "\n",
      "Tell me a funny joke about Large Language Models.<|eot_id|><|start_header_id|>assistant<|end_header_id|>\n",
      "\n",
      "\n"
     ]
    }
   ],
   "source": [
    "# See https://huggingface.co/docs/transformers/main/en/chat_templating\n",
    "messages = [\n",
    "    {\n",
    "        \"role\": \"system\",\n",
    "        \"content\": \"You are a friendly chatbot.\",\n",
    "    },\n",
    "    {\n",
    "        \"role\": \"user\",\n",
    "        \"content\": \"Tell me a funny joke about Large Language Models.\"\n",
    "    },\n",
    "]\n",
    "prompt = tokenizer.apply_chat_template(messages, tokenize=False, add_generation_prompt=True)\n",
    "print(prompt)"
   ]
  },
  {
   "cell_type": "code",
   "execution_count": 6,
   "id": "e6ff08c2-d166-4e6f-926e-2466ab8cc186",
   "metadata": {
    "execution": {
     "iopub.execute_input": "2024-07-21T08:08:54.673078Z",
     "iopub.status.busy": "2024-07-21T08:08:54.672489Z",
     "iopub.status.idle": "2024-07-21T08:08:55.341983Z",
     "shell.execute_reply": "2024-07-21T08:08:55.340624Z",
     "shell.execute_reply.started": "2024-07-21T08:08:54.673033Z"
    }
   },
   "outputs": [
    {
     "name": "stderr",
     "output_type": "stream",
     "text": [
      "Processed prompts: 100%|██████████| 1/1 [00:00<00:00,  1.54it/s, est. speed input: 49.50 toks/s, output: 103.64 toks/s]"
     ]
    },
    {
     "name": "stdout",
     "output_type": "stream",
     "text": [
      "Here's one:\n",
      "\n",
      "Why did the Large Language Model go to therapy?\n",
      "\n",
      "Because it was struggling to \"process\" its emotions and was feeling a little \"dis-connected\" from its users! But in the end, it just needed to \"re-train\" its thinking and \"update\" its perspective!\n",
      "\n",
      "Hope that made you LOL!\n"
     ]
    },
    {
     "name": "stderr",
     "output_type": "stream",
     "text": [
      "\n"
     ]
    }
   ],
   "source": [
    "# Generate output based on the input prompt and sampling parameters\n",
    "output = llm.generate(prompt, sampling_params)\n",
    "print(output[0].outputs[0].text)"
   ]
  }
 ],
 "metadata": {
  "kernelspec": {
   "display_name": "Python 3 (ipykernel)",
   "language": "python",
   "name": "python3"
  },
  "language_info": {
   "codemirror_mode": {
    "name": "ipython",
    "version": 3
   },
   "file_extension": ".py",
   "mimetype": "text/x-python",
   "name": "python",
   "nbconvert_exporter": "python",
   "pygments_lexer": "ipython3",
   "version": "3.10.13"
  }
 },
 "nbformat": 4,
 "nbformat_minor": 5
}
