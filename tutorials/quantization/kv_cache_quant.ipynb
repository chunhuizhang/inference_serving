{
 "cells": [
  {
   "cell_type": "markdown",
   "id": "aaa940fd-dca0-4186-a789-ffaadc5818d8",
   "metadata": {},
   "source": [
    "- https://huggingface.co/blog/kv-cache-quantization"
   ]
  },
  {
   "cell_type": "code",
   "execution_count": 1,
   "id": "b231428b-c158-42ca-9420-cd0da0f448b8",
   "metadata": {
    "execution": {
     "iopub.execute_input": "2024-09-01T04:23:13.953109Z",
     "iopub.status.busy": "2024-09-01T04:23:13.952659Z",
     "iopub.status.idle": "2024-09-01T04:23:13.970751Z",
     "shell.execute_reply": "2024-09-01T04:23:13.968738Z",
     "shell.execute_reply.started": "2024-09-01T04:23:13.953076Z"
    }
   },
   "outputs": [],
   "source": [
    "import os\n",
    "os.environ['http_proxy'] = 'http://127.0.0.1:7890'\n",
    "os.environ['https_proxy'] = 'http://127.0.0.1:7890'"
   ]
  },
  {
   "cell_type": "code",
   "execution_count": 3,
   "id": "bc109741-3b39-4ef4-b081-c1926d4a96c7",
   "metadata": {
    "execution": {
     "iopub.execute_input": "2024-09-01T04:23:56.600318Z",
     "iopub.status.busy": "2024-09-01T04:23:56.599914Z",
     "iopub.status.idle": "2024-09-01T04:23:56.725373Z",
     "shell.execute_reply": "2024-09-01T04:23:56.724086Z",
     "shell.execute_reply.started": "2024-09-01T04:23:56.600289Z"
    }
   },
   "outputs": [],
   "source": [
    "from transformers import AutoModelForCausalLM"
   ]
  },
  {
   "cell_type": "code",
   "execution_count": 4,
   "id": "489e4a67-3c4d-4ad8-8783-13b53643aeb3",
   "metadata": {
    "execution": {
     "iopub.execute_input": "2024-09-01T04:24:44.048697Z",
     "iopub.status.busy": "2024-09-01T04:24:44.048069Z",
     "iopub.status.idle": "2024-09-01T04:25:14.327005Z",
     "shell.execute_reply": "2024-09-01T04:25:14.325572Z",
     "shell.execute_reply.started": "2024-09-01T04:24:44.048652Z"
    }
   },
   "outputs": [
    {
     "data": {
      "application/vnd.jupyter.widget-view+json": {
       "model_id": "5894e88359484f4eab5066a9c35ec94c",
       "version_major": 2,
       "version_minor": 0
      },
      "text/plain": [
       "Loading checkpoint shards:   0%|          | 0/2 [00:00<?, ?it/s]"
      ]
     },
     "metadata": {},
     "output_type": "display_data"
    }
   ],
   "source": [
    "llama2 = AutoModelForCausalLM.from_pretrained('meta-llama/Llama-2-7b-hf')"
   ]
  },
  {
   "cell_type": "code",
   "execution_count": 5,
   "id": "a524d8fa-1f61-49bb-970b-c848eec5eba0",
   "metadata": {
    "execution": {
     "iopub.execute_input": "2024-09-01T04:25:25.959335Z",
     "iopub.status.busy": "2024-09-01T04:25:25.959012Z",
     "iopub.status.idle": "2024-09-01T04:25:25.970192Z",
     "shell.execute_reply": "2024-09-01T04:25:25.967969Z",
     "shell.execute_reply.started": "2024-09-01T04:25:25.959314Z"
    }
   },
   "outputs": [
    {
     "data": {
      "text/plain": [
       "LlamaConfig {\n",
       "  \"_name_or_path\": \"meta-llama/Llama-2-7b-hf\",\n",
       "  \"architectures\": [\n",
       "    \"LlamaForCausalLM\"\n",
       "  ],\n",
       "  \"attention_bias\": false,\n",
       "  \"attention_dropout\": 0.0,\n",
       "  \"bos_token_id\": 1,\n",
       "  \"eos_token_id\": 2,\n",
       "  \"hidden_act\": \"silu\",\n",
       "  \"hidden_size\": 4096,\n",
       "  \"initializer_range\": 0.02,\n",
       "  \"intermediate_size\": 11008,\n",
       "  \"max_position_embeddings\": 4096,\n",
       "  \"mlp_bias\": false,\n",
       "  \"model_type\": \"llama\",\n",
       "  \"num_attention_heads\": 32,\n",
       "  \"num_hidden_layers\": 32,\n",
       "  \"num_key_value_heads\": 32,\n",
       "  \"pretraining_tp\": 1,\n",
       "  \"rms_norm_eps\": 1e-05,\n",
       "  \"rope_scaling\": null,\n",
       "  \"rope_theta\": 10000.0,\n",
       "  \"tie_word_embeddings\": false,\n",
       "  \"torch_dtype\": \"float16\",\n",
       "  \"transformers_version\": \"4.43.3\",\n",
       "  \"use_cache\": true,\n",
       "  \"vocab_size\": 32000\n",
       "}"
      ]
     },
     "execution_count": 5,
     "metadata": {},
     "output_type": "execute_result"
    }
   ],
   "source": [
    "llama2.config"
   ]
  },
  {
   "cell_type": "markdown",
   "id": "c71961d6-b611-4150-9043-31df45ac7da2",
   "metadata": {},
   "source": [
    "### kv-cache for llama2-7b"
   ]
  },
  {
   "cell_type": "code",
   "execution_count": 6,
   "id": "afad1c89-3e50-46c0-89b1-548e9f7c5754",
   "metadata": {
    "execution": {
     "iopub.execute_input": "2024-09-01T04:26:45.579051Z",
     "iopub.status.busy": "2024-09-01T04:26:45.578404Z",
     "iopub.status.idle": "2024-09-01T04:26:45.591416Z",
     "shell.execute_reply": "2024-09-01T04:26:45.589205Z",
     "shell.execute_reply.started": "2024-09-01T04:26:45.579005Z"
    }
   },
   "outputs": [
    {
     "data": {
      "text/plain": [
       "128.0"
      ]
     },
     "execution_count": 6,
     "metadata": {},
     "output_type": "execute_result"
    }
   ],
   "source": [
    "4096/32"
   ]
  },
  {
   "cell_type": "markdown",
   "id": "f512e62a-c2fa-47c8-b502-675ac1566cdf",
   "metadata": {},
   "source": [
    "- 2 * 2 * num_layers * num_key_value_heads * head_dim * seq_len"
   ]
  },
  {
   "cell_type": "code",
   "execution_count": 8,
   "id": "d57ee5cc-beb2-42ba-809f-eb2f5cb4b578",
   "metadata": {
    "execution": {
     "iopub.execute_input": "2024-09-01T04:27:25.682236Z",
     "iopub.status.busy": "2024-09-01T04:27:25.681552Z",
     "iopub.status.idle": "2024-09-01T04:27:25.693728Z",
     "shell.execute_reply": "2024-09-01T04:27:25.691542Z",
     "shell.execute_reply.started": "2024-09-01T04:27:25.682191Z"
    }
   },
   "outputs": [
    {
     "data": {
      "text/plain": [
       "4.8828125"
      ]
     },
     "execution_count": 8,
     "metadata": {},
     "output_type": "execute_result"
    }
   ],
   "source": [
    "2 * 2 * 32 * 32 * 128 * 10000 / (1024 * 1024 * 1024)"
   ]
  },
  {
   "cell_type": "code",
   "execution_count": null,
   "id": "24c72195-eaa8-4b6d-a54a-ece022d29798",
   "metadata": {},
   "outputs": [],
   "source": []
  }
 ],
 "metadata": {
  "kernelspec": {
   "display_name": "Python 3 (ipykernel)",
   "language": "python",
   "name": "python3"
  },
  "language_info": {
   "codemirror_mode": {
    "name": "ipython",
    "version": 3
   },
   "file_extension": ".py",
   "mimetype": "text/x-python",
   "name": "python",
   "nbconvert_exporter": "python",
   "pygments_lexer": "ipython3",
   "version": "3.10.13"
  }
 },
 "nbformat": 4,
 "nbformat_minor": 5
}
