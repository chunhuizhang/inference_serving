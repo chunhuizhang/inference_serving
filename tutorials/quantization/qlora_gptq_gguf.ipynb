{
 "cells": [
  {
   "cell_type": "markdown",
   "id": "d8ac21d5-ca7f-43e7-956d-83d8685049fe",
   "metadata": {},
   "source": [
    "### 对比"
   ]
  },
  {
   "cell_type": "markdown",
   "id": "3da66ebe-60e0-44d9-9a06-852be1eb315f",
   "metadata": {},
   "source": [
    "- qlora: 4bit\n",
    "- gptq: data compression\n",
    "    - to quantizing the weights of transformer-based models\n",
    "    - first applies scalar quant to the weights, followed by vector quant to the residuals\n",
    "    - post-training quantization\n",
    "- gguf: ggml\n",
    "    - c++,\n",
    "    - llama.cpp, https://github.com/ggerganov/llama.cpp"
   ]
  },
  {
   "cell_type": "markdown",
   "id": "c09750b8-8687-4662-afdb-425975702539",
   "metadata": {},
   "source": [
    "### llama.cpp"
   ]
  },
  {
   "cell_type": "markdown",
   "id": "81c1d54d-95f6-4f3c-86f1-8e6be18f24f4",
   "metadata": {},
   "source": [
    "```\n",
    "# optional\n",
    "conda create -n llama3 python=3.11\n",
    "conda activate llama3\n",
    "\n",
    "# hf version llama3 weights\n",
    "git lfs install\n",
    "git clone https://huggingface.co/meta-llama/Meta-Llama-3-8B-Instruct\n",
    "\n",
    "\n",
    "# hf cli\n",
    "pip3 install -U \"huggingface_hub[cli]\" \n",
    "huggingface-cli login\n",
    "\n",
    "\n",
    "# clone & make llama.cpp\n",
    "git clone https://github.com/ggerganov/llama.cpp \n",
    "cd llama.cpp \n",
    "make\n",
    "python3 -m pip install -r requirements.txt\n",
    "```"
   ]
  },
  {
   "cell_type": "markdown",
   "id": "492d3345-0cb1-4a2c-9e38-a117814326ff",
   "metadata": {},
   "source": [
    "- 转换：hf => gguf\n",
    "    ```\n",
    "    python3 convert-hf-to-gguf.py /your-folder/Meta-Llama-3-8B-Instruct\n",
    "    ```\n",
    "    - `n_tensors = 291, total_size = 16.1G`\n",
    "    - `ggml-model-f16.gguf`\n",
    "- Quantize the Model\n",
    "    ```\n",
    "    ./llm_quantize /your-folder/Meta-Llama-3-8B-Instruct/ggml-model-f16.gguf q4_0\n",
    "    ```\n",
    "    - `ggml-model-Q4_0.gguf`\n",
    "- Run the Model\n",
    "    ```\n",
    "    ./llama-cli -m /your-folder/Meta-Llama-3-8B-Instruct/ggml-model-Q4_0.gguf -n 256 --repeat_penalty 1.0 --color -i -r \"User:\" -f prompts/chat-with-bob.txt\n",
    "    ```"
   ]
  }
 ],
 "metadata": {
  "kernelspec": {
   "display_name": "Python 3 (ipykernel)",
   "language": "python",
   "name": "python3"
  },
  "language_info": {
   "codemirror_mode": {
    "name": "ipython",
    "version": 3
   },
   "file_extension": ".py",
   "mimetype": "text/x-python",
   "name": "python",
   "nbconvert_exporter": "python",
   "pygments_lexer": "ipython3",
   "version": "3.10.13"
  }
 },
 "nbformat": 4,
 "nbformat_minor": 5
}
