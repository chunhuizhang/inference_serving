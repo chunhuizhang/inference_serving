{
 "cells": [
  {
   "cell_type": "markdown",
   "id": "d8ac21d5-ca7f-43e7-956d-83d8685049fe",
   "metadata": {},
   "source": [
    "### 对比"
   ]
  },
  {
   "cell_type": "markdown",
   "id": "3da66ebe-60e0-44d9-9a06-852be1eb315f",
   "metadata": {},
   "source": [
    "- qlora: 4bit\n",
    "- gptq: data compression\n",
    "    - to quantizing the weights of transformer-based models\n",
    "    - first applies scalar quant to the weights, followed by vector quant to the residuals\n",
    "    - post-training quantization\n",
    "- gguf: ggml\n",
    "    - c++,\n",
    "    - llama.cpp, https://github.com/ggerganov/llama.cpp"
   ]
  }
 ],
 "metadata": {
  "kernelspec": {
   "display_name": "Python 3 (ipykernel)",
   "language": "python",
   "name": "python3"
  },
  "language_info": {
   "codemirror_mode": {
    "name": "ipython",
    "version": 3
   },
   "file_extension": ".py",
   "mimetype": "text/x-python",
   "name": "python",
   "nbconvert_exporter": "python",
   "pygments_lexer": "ipython3",
   "version": "3.10.13"
  }
 },
 "nbformat": 4,
 "nbformat_minor": 5
}
