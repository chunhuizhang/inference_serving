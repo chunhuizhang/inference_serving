{
 "cells": [
  {
   "cell_type": "markdown",
   "id": "902b611d-db2d-4b4b-b984-f2b9c35070bf",
   "metadata": {},
   "source": [
    "- 推理优化，比如权重剪枝，比如 layer fusion\n",
    "    - 比如linear (matrix multiplication) ＋relu的融合"
   ]
  }
 ],
 "metadata": {
  "kernelspec": {
   "display_name": "Python 3 (ipykernel)",
   "language": "python",
   "name": "python3"
  },
  "language_info": {
   "codemirror_mode": {
    "name": "ipython",
    "version": 3
   },
   "file_extension": ".py",
   "mimetype": "text/x-python",
   "name": "python",
   "nbconvert_exporter": "python",
   "pygments_lexer": "ipython3",
   "version": "3.10.13"
  }
 },
 "nbformat": 4,
 "nbformat_minor": 5
}
