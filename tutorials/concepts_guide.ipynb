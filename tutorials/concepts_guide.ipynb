{
 "cells": [
  {
   "cell_type": "markdown",
   "id": "7fac6857-7fde-4705-9271-3a3459242e86",
   "metadata": {},
   "source": [
    "## compute/memory bound"
   ]
  },
  {
   "cell_type": "markdown",
   "id": "72b4fafb-70c4-45ad-84be-43d9c78db237",
   "metadata": {},
   "source": [
    "- TLDR at batch_size=1 (i.e. just generating a single stream of prediction on your computer), the inference is super duper **memory-bound**. The on-chip compute units are twiddling their thumbs while sucking model weights through a straw from DRAM. Every individual weight that is expensively loaded from DRAM onto the chip is only used for a single instant multiply to process each new input token. So the stat to look at is not FLOPS but the **memory bandwidth**.\n",
    "    - compute-bound：flops\n",
    "    - memory-bound：memory bandwidth"
   ]
  },
  {
   "cell_type": "markdown",
   "id": "be7ccd10-8e87-435a-9ad1-2b8fe7273d10",
   "metadata": {},
   "source": [
    "|                        | A100      | MacBook M2 |\n",
    "|------------------------|-----------|------------|\n",
    "| Memory Bandwidth       | 1935 GB/s | 100 GB/s   |\n",
    "| Compute                | 1248 TOPS | 7 TFLOPS   |"
   ]
  },
  {
   "cell_type": "markdown",
   "id": "1eb47a01-5add-40e8-8707-f35b88d14dfc",
   "metadata": {},
   "source": [
    "## 多卡方案"
   ]
  },
  {
   "cell_type": "markdown",
   "id": "6da5e87a-6253-417c-b801-39f7c99a6fe1",
   "metadata": {},
   "source": [
    "- pipeline parallelism，流水线并行；\n",
    "    - transformers\n",
    "    - llama.cpp：\n",
    "    - ollama\n",
    "- tensor parallelism（性能远高于流水线并行）\n",
    "    - 企业级推理框架的标配\n",
    "    - vllm，deepspeed"
   ]
  }
 ],
 "metadata": {
  "kernelspec": {
   "display_name": "Python 3 (ipykernel)",
   "language": "python",
   "name": "python3"
  },
  "language_info": {
   "codemirror_mode": {
    "name": "ipython",
    "version": 3
   },
   "file_extension": ".py",
   "mimetype": "text/x-python",
   "name": "python",
   "nbconvert_exporter": "python",
   "pygments_lexer": "ipython3",
   "version": "3.10.13"
  }
 },
 "nbformat": 4,
 "nbformat_minor": 5
}
