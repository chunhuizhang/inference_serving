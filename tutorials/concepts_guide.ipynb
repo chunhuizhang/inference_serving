{
 "cells": [
  {
   "cell_type": "markdown",
   "id": "1eb47a01-5add-40e8-8707-f35b88d14dfc",
   "metadata": {},
   "source": [
    "## 多卡方案"
   ]
  },
  {
   "cell_type": "markdown",
   "id": "6da5e87a-6253-417c-b801-39f7c99a6fe1",
   "metadata": {},
   "source": [
    "- pipeline parallelism，流水线并行；\n",
    "    - transformers\n",
    "    - llama.cpp：\n",
    "    - ollama\n",
    "- tensor parallelism（性能远高于流水线并行）\n",
    "    - 企业级推理框架的标配\n",
    "    - vllm，deepspeed"
   ]
  }
 ],
 "metadata": {
  "kernelspec": {
   "display_name": "Python 3 (ipykernel)",
   "language": "python",
   "name": "python3"
  },
  "language_info": {
   "codemirror_mode": {
    "name": "ipython",
    "version": 3
   },
   "file_extension": ".py",
   "mimetype": "text/x-python",
   "name": "python",
   "nbconvert_exporter": "python",
   "pygments_lexer": "ipython3",
   "version": "3.10.13"
  }
 },
 "nbformat": 4,
 "nbformat_minor": 5
}
